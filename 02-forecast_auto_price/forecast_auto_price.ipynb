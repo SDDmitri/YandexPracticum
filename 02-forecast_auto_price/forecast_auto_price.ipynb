{
 "cells": [
  {
   "cell_type": "markdown",
   "metadata": {},
   "source": [
    "# Определение стоимости автомобилей"
   ]
  },
  {
   "cell_type": "markdown",
   "metadata": {},
   "source": [
    "Сервис по продаже автомобилей с пробегом разрабатывает приложение, в котором можно быстро узнать рыночную стоимость своего автомобиля. В нашем распоряжении исторические данные: технические характеристики, комплектации и цены автомобилей. Нужно построить модель для определения стоимости. \n",
    "\n",
    "Заказчику важны:\n",
    "\n",
    "- качество предсказания;\n",
    "- скорость предсказания;\n",
    "- время обучения."
   ]
  },
  {
   "cell_type": "markdown",
   "metadata": {},
   "source": [
    "## Описание данных"
   ]
  },
  {
   "cell_type": "markdown",
   "metadata": {},
   "source": [
    "Набор данных находится в файле `/datasets/insurance.csv`. Он содержит таблицу со следующими столбцами:\n",
    "- ***DateCrawled*** - дата скачивания анкеты из базы\n",
    "- ***VehicleType*** - тип автомобильного кузова\n",
    "- ***RegistrationYear*** - год регистрации автомобиля\n",
    "- ***Gearbox*** - тип коробки передач\n",
    "- ***Power*** - мощность (л.с.)\n",
    "- ***Model*** - модель автомобиля\n",
    "- ***Kilometer*** - пробег (км)\n",
    "- ***RegistrationMonth*** - месяц регистрации автомобиля\n",
    "- ***FuelType*** - тип топлива\n",
    "- ***Brand*** - марка автомобиля\n",
    "- ***Repaired*** - была машина в ремонте или нет\n",
    "- ***DateCreated*** - дата создания анкеты\n",
    "- ***NumberOfPictures*** - количество фотографий автомобиля\n",
    "- ***PostalCode*** - почтовый индекс владельца анкеты\n",
    "- ***LastSeen*** - дата последней активности пользователя\n",
    "- ***Price*** - цена (евро)"
   ]
  },
  {
   "cell_type": "markdown",
   "metadata": {},
   "source": [
    "## Предобработка данных"
   ]
  },
  {
   "cell_type": "code",
   "execution_count": 1,
   "metadata": {},
   "outputs": [
    {
     "name": "stderr",
     "output_type": "stream",
     "text": [
      "WARNING: There was an error checking the latest version of pip.\n"
     ]
    }
   ],
   "source": [
    "!pip install category_encoders -q"
   ]
  },
  {
   "cell_type": "code",
   "execution_count": 2,
   "metadata": {},
   "outputs": [],
   "source": [
    "import re\n",
    "import sys\n",
    "\n",
    "from category_encoders import BinaryEncoder\n",
    "from IPython.display import display, HTML\n",
    "from lightgbm import LGBMRegressor\n",
    "from matplotlib import pyplot as plt\n",
    "import numpy as np\n",
    "import pandas as pd\n",
    "from sklearn.model_selection import train_test_split\n",
    "from sklearn.linear_model import LinearRegression, ElasticNet\n",
    "from sklearn.tree import DecisionTreeRegressor\n",
    "from sklearn.preprocessing import StandardScaler, MinMaxScaler, OneHotEncoder\n",
    "from sklearn.metrics import mean_squared_error\n",
    "from sklearn.model_selection import cross_val_score, GridSearchCV, RandomizedSearchCV\n",
    "from sklearn.dummy import DummyRegressor\n",
    "from tqdm import tqdm"
   ]
  },
  {
   "cell_type": "code",
   "execution_count": 3,
   "metadata": {},
   "outputs": [
    {
     "data": {
      "text/html": [
       "<style>.container { width:90% !important; }</style>"
      ],
      "text/plain": [
       "<IPython.core.display.HTML object>"
      ]
     },
     "metadata": {},
     "output_type": "display_data"
    }
   ],
   "source": [
    "display(HTML(\"<style>.container { width:90% !important; }</style>\")) #широкоформатный режим"
   ]
  },
  {
   "cell_type": "code",
   "execution_count": 4,
   "metadata": {},
   "outputs": [],
   "source": [
    "RANDOM_STATE = 28072023#константа, инициализирующая генератор псевдослучайных чисел"
   ]
  },
  {
   "cell_type": "markdown",
   "metadata": {},
   "source": [
    "Откроем файл `autos.csv` и запишем датафрейм в переменную `autos`"
   ]
  },
  {
   "cell_type": "code",
   "execution_count": 5,
   "metadata": {},
   "outputs": [],
   "source": [
    "def read_dataset(name_csv, **kwargs): \n",
    "    if sys.platform == 'linux':\n",
    "        df = pd.read_csv(f'/datasets/{name_csv}',**kwargs)\n",
    "    else:\n",
    "        df = pd.read_csv(f'datasets/{name_csv}',**kwargs)\n",
    "    return df\n",
    "autos = read_dataset('autos.csv', parse_dates=['DateCrawled','DateCreated','LastSeen'])"
   ]
  },
  {
   "cell_type": "markdown",
   "metadata": {},
   "source": [
    "### Первичный анализ данных"
   ]
  },
  {
   "cell_type": "markdown",
   "metadata": {},
   "source": [
    "Создадим функцию для первичного анализа данных"
   ]
  },
  {
   "cell_type": "code",
   "execution_count": 6,
   "metadata": {},
   "outputs": [],
   "source": [
    "def exploratory_analysis(df:pd.DataFrame, drop_cols=None):    \n",
    "    display(HTML(\"<br><h1 align='center'>Основная информация</h1>\"))\n",
    "    df.info()    \n",
    "    display(df.describe())\n",
    "    display(HTML(\"<br><h1 align='center'>Первые 10 строк</h1>\"), df.head(10))    \n",
    "    display(HTML(\"<br><h1 align='center'>Корреляция</h1>\"))\n",
    "    if drop_cols:\n",
    "        display(df.drop(columns=drop_cols).corr(method='spearman'))\n",
    "    else:\n",
    "        display(df.corr(method='spearman'))\n",
    "    display(HTML(\"<br><h1 align='center'>Гистограммы</h1>\"))\n",
    "    _ = df.hist(figsize=(15,25), bins=20, xrot=90)\n",
    "    plt.show()\n",
    "    display(HTML(\"<br><h1 align='center'>Пропуски</h1>\"), df.isna().sum())     "
   ]
  },
  {
   "cell_type": "markdown",
   "metadata": {},
   "source": [
    "Применим функцию `exploratory_analysis` к датафрейму `autos`"
   ]
  },
  {
   "cell_type": "code",
   "execution_count": 7,
   "metadata": {
    "scrolled": false
   },
   "outputs": [
    {
     "data": {
      "text/html": [
       "<br><h1 align='center'>Основная информация</h1>"
      ],
      "text/plain": [
       "<IPython.core.display.HTML object>"
      ]
     },
     "metadata": {},
     "output_type": "display_data"
    },
    {
     "name": "stdout",
     "output_type": "stream",
     "text": [
      "<class 'pandas.core.frame.DataFrame'>\n",
      "RangeIndex: 354369 entries, 0 to 354368\n",
      "Data columns (total 16 columns):\n",
      " #   Column             Non-Null Count   Dtype         \n",
      "---  ------             --------------   -----         \n",
      " 0   DateCrawled        354369 non-null  datetime64[ns]\n",
      " 1   Price              354369 non-null  int64         \n",
      " 2   VehicleType        316879 non-null  object        \n",
      " 3   RegistrationYear   354369 non-null  int64         \n",
      " 4   Gearbox            334536 non-null  object        \n",
      " 5   Power              354369 non-null  int64         \n",
      " 6   Model              334664 non-null  object        \n",
      " 7   Kilometer          354369 non-null  int64         \n",
      " 8   RegistrationMonth  354369 non-null  int64         \n",
      " 9   FuelType           321474 non-null  object        \n",
      " 10  Brand              354369 non-null  object        \n",
      " 11  Repaired           283215 non-null  object        \n",
      " 12  DateCreated        354369 non-null  datetime64[ns]\n",
      " 13  NumberOfPictures   354369 non-null  int64         \n",
      " 14  PostalCode         354369 non-null  int64         \n",
      " 15  LastSeen           354369 non-null  datetime64[ns]\n",
      "dtypes: datetime64[ns](3), int64(7), object(6)\n",
      "memory usage: 43.3+ MB\n"
     ]
    },
    {
     "data": {
      "text/html": [
       "<div>\n",
       "<style scoped>\n",
       "    .dataframe tbody tr th:only-of-type {\n",
       "        vertical-align: middle;\n",
       "    }\n",
       "\n",
       "    .dataframe tbody tr th {\n",
       "        vertical-align: top;\n",
       "    }\n",
       "\n",
       "    .dataframe thead th {\n",
       "        text-align: right;\n",
       "    }\n",
       "</style>\n",
       "<table border=\"1\" class=\"dataframe\">\n",
       "  <thead>\n",
       "    <tr style=\"text-align: right;\">\n",
       "      <th></th>\n",
       "      <th>Price</th>\n",
       "      <th>RegistrationYear</th>\n",
       "      <th>Power</th>\n",
       "      <th>Kilometer</th>\n",
       "      <th>RegistrationMonth</th>\n",
       "      <th>NumberOfPictures</th>\n",
       "      <th>PostalCode</th>\n",
       "    </tr>\n",
       "  </thead>\n",
       "  <tbody>\n",
       "    <tr>\n",
       "      <th>count</th>\n",
       "      <td>354369.000000</td>\n",
       "      <td>354369.000000</td>\n",
       "      <td>354369.000000</td>\n",
       "      <td>354369.000000</td>\n",
       "      <td>354369.000000</td>\n",
       "      <td>354369.0</td>\n",
       "      <td>354369.000000</td>\n",
       "    </tr>\n",
       "    <tr>\n",
       "      <th>mean</th>\n",
       "      <td>4416.656776</td>\n",
       "      <td>2004.234448</td>\n",
       "      <td>110.094337</td>\n",
       "      <td>128211.172535</td>\n",
       "      <td>5.714645</td>\n",
       "      <td>0.0</td>\n",
       "      <td>50508.689087</td>\n",
       "    </tr>\n",
       "    <tr>\n",
       "      <th>std</th>\n",
       "      <td>4514.158514</td>\n",
       "      <td>90.227958</td>\n",
       "      <td>189.850405</td>\n",
       "      <td>37905.341530</td>\n",
       "      <td>3.726421</td>\n",
       "      <td>0.0</td>\n",
       "      <td>25783.096248</td>\n",
       "    </tr>\n",
       "    <tr>\n",
       "      <th>min</th>\n",
       "      <td>0.000000</td>\n",
       "      <td>1000.000000</td>\n",
       "      <td>0.000000</td>\n",
       "      <td>5000.000000</td>\n",
       "      <td>0.000000</td>\n",
       "      <td>0.0</td>\n",
       "      <td>1067.000000</td>\n",
       "    </tr>\n",
       "    <tr>\n",
       "      <th>25%</th>\n",
       "      <td>1050.000000</td>\n",
       "      <td>1999.000000</td>\n",
       "      <td>69.000000</td>\n",
       "      <td>125000.000000</td>\n",
       "      <td>3.000000</td>\n",
       "      <td>0.0</td>\n",
       "      <td>30165.000000</td>\n",
       "    </tr>\n",
       "    <tr>\n",
       "      <th>50%</th>\n",
       "      <td>2700.000000</td>\n",
       "      <td>2003.000000</td>\n",
       "      <td>105.000000</td>\n",
       "      <td>150000.000000</td>\n",
       "      <td>6.000000</td>\n",
       "      <td>0.0</td>\n",
       "      <td>49413.000000</td>\n",
       "    </tr>\n",
       "    <tr>\n",
       "      <th>75%</th>\n",
       "      <td>6400.000000</td>\n",
       "      <td>2008.000000</td>\n",
       "      <td>143.000000</td>\n",
       "      <td>150000.000000</td>\n",
       "      <td>9.000000</td>\n",
       "      <td>0.0</td>\n",
       "      <td>71083.000000</td>\n",
       "    </tr>\n",
       "    <tr>\n",
       "      <th>max</th>\n",
       "      <td>20000.000000</td>\n",
       "      <td>9999.000000</td>\n",
       "      <td>20000.000000</td>\n",
       "      <td>150000.000000</td>\n",
       "      <td>12.000000</td>\n",
       "      <td>0.0</td>\n",
       "      <td>99998.000000</td>\n",
       "    </tr>\n",
       "  </tbody>\n",
       "</table>\n",
       "</div>"
      ],
      "text/plain": [
       "               Price  RegistrationYear          Power      Kilometer  \\\n",
       "count  354369.000000     354369.000000  354369.000000  354369.000000   \n",
       "mean     4416.656776       2004.234448     110.094337  128211.172535   \n",
       "std      4514.158514         90.227958     189.850405   37905.341530   \n",
       "min         0.000000       1000.000000       0.000000    5000.000000   \n",
       "25%      1050.000000       1999.000000      69.000000  125000.000000   \n",
       "50%      2700.000000       2003.000000     105.000000  150000.000000   \n",
       "75%      6400.000000       2008.000000     143.000000  150000.000000   \n",
       "max     20000.000000       9999.000000   20000.000000  150000.000000   \n",
       "\n",
       "       RegistrationMonth  NumberOfPictures     PostalCode  \n",
       "count      354369.000000          354369.0  354369.000000  \n",
       "mean            5.714645               0.0   50508.689087  \n",
       "std             3.726421               0.0   25783.096248  \n",
       "min             0.000000               0.0    1067.000000  \n",
       "25%             3.000000               0.0   30165.000000  \n",
       "50%             6.000000               0.0   49413.000000  \n",
       "75%             9.000000               0.0   71083.000000  \n",
       "max            12.000000               0.0   99998.000000  "
      ]
     },
     "metadata": {},
     "output_type": "display_data"
    },
    {
     "data": {
      "text/html": [
       "<br><h1 align='center'>Первые 10 строк</h1>"
      ],
      "text/plain": [
       "<IPython.core.display.HTML object>"
      ]
     },
     "metadata": {},
     "output_type": "display_data"
    },
    {
     "data": {
      "text/html": [
       "<div>\n",
       "<style scoped>\n",
       "    .dataframe tbody tr th:only-of-type {\n",
       "        vertical-align: middle;\n",
       "    }\n",
       "\n",
       "    .dataframe tbody tr th {\n",
       "        vertical-align: top;\n",
       "    }\n",
       "\n",
       "    .dataframe thead th {\n",
       "        text-align: right;\n",
       "    }\n",
       "</style>\n",
       "<table border=\"1\" class=\"dataframe\">\n",
       "  <thead>\n",
       "    <tr style=\"text-align: right;\">\n",
       "      <th></th>\n",
       "      <th>DateCrawled</th>\n",
       "      <th>Price</th>\n",
       "      <th>VehicleType</th>\n",
       "      <th>RegistrationYear</th>\n",
       "      <th>Gearbox</th>\n",
       "      <th>Power</th>\n",
       "      <th>Model</th>\n",
       "      <th>Kilometer</th>\n",
       "      <th>RegistrationMonth</th>\n",
       "      <th>FuelType</th>\n",
       "      <th>Brand</th>\n",
       "      <th>Repaired</th>\n",
       "      <th>DateCreated</th>\n",
       "      <th>NumberOfPictures</th>\n",
       "      <th>PostalCode</th>\n",
       "      <th>LastSeen</th>\n",
       "    </tr>\n",
       "  </thead>\n",
       "  <tbody>\n",
       "    <tr>\n",
       "      <th>0</th>\n",
       "      <td>2016-03-24 11:52:17</td>\n",
       "      <td>480</td>\n",
       "      <td>NaN</td>\n",
       "      <td>1993</td>\n",
       "      <td>manual</td>\n",
       "      <td>0</td>\n",
       "      <td>golf</td>\n",
       "      <td>150000</td>\n",
       "      <td>0</td>\n",
       "      <td>petrol</td>\n",
       "      <td>volkswagen</td>\n",
       "      <td>NaN</td>\n",
       "      <td>2016-03-24</td>\n",
       "      <td>0</td>\n",
       "      <td>70435</td>\n",
       "      <td>2016-04-07 03:16:57</td>\n",
       "    </tr>\n",
       "    <tr>\n",
       "      <th>1</th>\n",
       "      <td>2016-03-24 10:58:45</td>\n",
       "      <td>18300</td>\n",
       "      <td>coupe</td>\n",
       "      <td>2011</td>\n",
       "      <td>manual</td>\n",
       "      <td>190</td>\n",
       "      <td>NaN</td>\n",
       "      <td>125000</td>\n",
       "      <td>5</td>\n",
       "      <td>gasoline</td>\n",
       "      <td>audi</td>\n",
       "      <td>yes</td>\n",
       "      <td>2016-03-24</td>\n",
       "      <td>0</td>\n",
       "      <td>66954</td>\n",
       "      <td>2016-04-07 01:46:50</td>\n",
       "    </tr>\n",
       "    <tr>\n",
       "      <th>2</th>\n",
       "      <td>2016-03-14 12:52:21</td>\n",
       "      <td>9800</td>\n",
       "      <td>suv</td>\n",
       "      <td>2004</td>\n",
       "      <td>auto</td>\n",
       "      <td>163</td>\n",
       "      <td>grand</td>\n",
       "      <td>125000</td>\n",
       "      <td>8</td>\n",
       "      <td>gasoline</td>\n",
       "      <td>jeep</td>\n",
       "      <td>NaN</td>\n",
       "      <td>2016-03-14</td>\n",
       "      <td>0</td>\n",
       "      <td>90480</td>\n",
       "      <td>2016-04-05 12:47:46</td>\n",
       "    </tr>\n",
       "    <tr>\n",
       "      <th>3</th>\n",
       "      <td>2016-03-17 16:54:04</td>\n",
       "      <td>1500</td>\n",
       "      <td>small</td>\n",
       "      <td>2001</td>\n",
       "      <td>manual</td>\n",
       "      <td>75</td>\n",
       "      <td>golf</td>\n",
       "      <td>150000</td>\n",
       "      <td>6</td>\n",
       "      <td>petrol</td>\n",
       "      <td>volkswagen</td>\n",
       "      <td>no</td>\n",
       "      <td>2016-03-17</td>\n",
       "      <td>0</td>\n",
       "      <td>91074</td>\n",
       "      <td>2016-03-17 17:40:17</td>\n",
       "    </tr>\n",
       "    <tr>\n",
       "      <th>4</th>\n",
       "      <td>2016-03-31 17:25:20</td>\n",
       "      <td>3600</td>\n",
       "      <td>small</td>\n",
       "      <td>2008</td>\n",
       "      <td>manual</td>\n",
       "      <td>69</td>\n",
       "      <td>fabia</td>\n",
       "      <td>90000</td>\n",
       "      <td>7</td>\n",
       "      <td>gasoline</td>\n",
       "      <td>skoda</td>\n",
       "      <td>no</td>\n",
       "      <td>2016-03-31</td>\n",
       "      <td>0</td>\n",
       "      <td>60437</td>\n",
       "      <td>2016-04-06 10:17:21</td>\n",
       "    </tr>\n",
       "    <tr>\n",
       "      <th>5</th>\n",
       "      <td>2016-04-04 17:36:23</td>\n",
       "      <td>650</td>\n",
       "      <td>sedan</td>\n",
       "      <td>1995</td>\n",
       "      <td>manual</td>\n",
       "      <td>102</td>\n",
       "      <td>3er</td>\n",
       "      <td>150000</td>\n",
       "      <td>10</td>\n",
       "      <td>petrol</td>\n",
       "      <td>bmw</td>\n",
       "      <td>yes</td>\n",
       "      <td>2016-04-04</td>\n",
       "      <td>0</td>\n",
       "      <td>33775</td>\n",
       "      <td>2016-04-06 19:17:07</td>\n",
       "    </tr>\n",
       "    <tr>\n",
       "      <th>6</th>\n",
       "      <td>2016-04-01 20:48:51</td>\n",
       "      <td>2200</td>\n",
       "      <td>convertible</td>\n",
       "      <td>2004</td>\n",
       "      <td>manual</td>\n",
       "      <td>109</td>\n",
       "      <td>2_reihe</td>\n",
       "      <td>150000</td>\n",
       "      <td>8</td>\n",
       "      <td>petrol</td>\n",
       "      <td>peugeot</td>\n",
       "      <td>no</td>\n",
       "      <td>2016-04-01</td>\n",
       "      <td>0</td>\n",
       "      <td>67112</td>\n",
       "      <td>2016-04-05 18:18:39</td>\n",
       "    </tr>\n",
       "    <tr>\n",
       "      <th>7</th>\n",
       "      <td>2016-03-21 18:54:38</td>\n",
       "      <td>0</td>\n",
       "      <td>sedan</td>\n",
       "      <td>1980</td>\n",
       "      <td>manual</td>\n",
       "      <td>50</td>\n",
       "      <td>other</td>\n",
       "      <td>40000</td>\n",
       "      <td>7</td>\n",
       "      <td>petrol</td>\n",
       "      <td>volkswagen</td>\n",
       "      <td>no</td>\n",
       "      <td>2016-03-21</td>\n",
       "      <td>0</td>\n",
       "      <td>19348</td>\n",
       "      <td>2016-03-25 16:47:58</td>\n",
       "    </tr>\n",
       "    <tr>\n",
       "      <th>8</th>\n",
       "      <td>2016-04-04 23:42:13</td>\n",
       "      <td>14500</td>\n",
       "      <td>bus</td>\n",
       "      <td>2014</td>\n",
       "      <td>manual</td>\n",
       "      <td>125</td>\n",
       "      <td>c_max</td>\n",
       "      <td>30000</td>\n",
       "      <td>8</td>\n",
       "      <td>petrol</td>\n",
       "      <td>ford</td>\n",
       "      <td>NaN</td>\n",
       "      <td>2016-04-04</td>\n",
       "      <td>0</td>\n",
       "      <td>94505</td>\n",
       "      <td>2016-04-04 23:42:13</td>\n",
       "    </tr>\n",
       "    <tr>\n",
       "      <th>9</th>\n",
       "      <td>2016-03-17 10:53:50</td>\n",
       "      <td>999</td>\n",
       "      <td>small</td>\n",
       "      <td>1998</td>\n",
       "      <td>manual</td>\n",
       "      <td>101</td>\n",
       "      <td>golf</td>\n",
       "      <td>150000</td>\n",
       "      <td>0</td>\n",
       "      <td>NaN</td>\n",
       "      <td>volkswagen</td>\n",
       "      <td>NaN</td>\n",
       "      <td>2016-03-17</td>\n",
       "      <td>0</td>\n",
       "      <td>27472</td>\n",
       "      <td>2016-03-31 17:17:06</td>\n",
       "    </tr>\n",
       "  </tbody>\n",
       "</table>\n",
       "</div>"
      ],
      "text/plain": [
       "          DateCrawled  Price  VehicleType  RegistrationYear Gearbox  Power  \\\n",
       "0 2016-03-24 11:52:17    480          NaN              1993  manual      0   \n",
       "1 2016-03-24 10:58:45  18300        coupe              2011  manual    190   \n",
       "2 2016-03-14 12:52:21   9800          suv              2004    auto    163   \n",
       "3 2016-03-17 16:54:04   1500        small              2001  manual     75   \n",
       "4 2016-03-31 17:25:20   3600        small              2008  manual     69   \n",
       "5 2016-04-04 17:36:23    650        sedan              1995  manual    102   \n",
       "6 2016-04-01 20:48:51   2200  convertible              2004  manual    109   \n",
       "7 2016-03-21 18:54:38      0        sedan              1980  manual     50   \n",
       "8 2016-04-04 23:42:13  14500          bus              2014  manual    125   \n",
       "9 2016-03-17 10:53:50    999        small              1998  manual    101   \n",
       "\n",
       "     Model  Kilometer  RegistrationMonth  FuelType       Brand Repaired  \\\n",
       "0     golf     150000                  0    petrol  volkswagen      NaN   \n",
       "1      NaN     125000                  5  gasoline        audi      yes   \n",
       "2    grand     125000                  8  gasoline        jeep      NaN   \n",
       "3     golf     150000                  6    petrol  volkswagen       no   \n",
       "4    fabia      90000                  7  gasoline       skoda       no   \n",
       "5      3er     150000                 10    petrol         bmw      yes   \n",
       "6  2_reihe     150000                  8    petrol     peugeot       no   \n",
       "7    other      40000                  7    petrol  volkswagen       no   \n",
       "8    c_max      30000                  8    petrol        ford      NaN   \n",
       "9     golf     150000                  0       NaN  volkswagen      NaN   \n",
       "\n",
       "  DateCreated  NumberOfPictures  PostalCode            LastSeen  \n",
       "0  2016-03-24                 0       70435 2016-04-07 03:16:57  \n",
       "1  2016-03-24                 0       66954 2016-04-07 01:46:50  \n",
       "2  2016-03-14                 0       90480 2016-04-05 12:47:46  \n",
       "3  2016-03-17                 0       91074 2016-03-17 17:40:17  \n",
       "4  2016-03-31                 0       60437 2016-04-06 10:17:21  \n",
       "5  2016-04-04                 0       33775 2016-04-06 19:17:07  \n",
       "6  2016-04-01                 0       67112 2016-04-05 18:18:39  \n",
       "7  2016-03-21                 0       19348 2016-03-25 16:47:58  \n",
       "8  2016-04-04                 0       94505 2016-04-04 23:42:13  \n",
       "9  2016-03-17                 0       27472 2016-03-31 17:17:06  "
      ]
     },
     "metadata": {},
     "output_type": "display_data"
    },
    {
     "data": {
      "text/html": [
       "<br><h1 align='center'>Корреляция</h1>"
      ],
      "text/plain": [
       "<IPython.core.display.HTML object>"
      ]
     },
     "metadata": {},
     "output_type": "display_data"
    },
    {
     "data": {
      "text/html": [
       "<div>\n",
       "<style scoped>\n",
       "    .dataframe tbody tr th:only-of-type {\n",
       "        vertical-align: middle;\n",
       "    }\n",
       "\n",
       "    .dataframe tbody tr th {\n",
       "        vertical-align: top;\n",
       "    }\n",
       "\n",
       "    .dataframe thead th {\n",
       "        text-align: right;\n",
       "    }\n",
       "</style>\n",
       "<table border=\"1\" class=\"dataframe\">\n",
       "  <thead>\n",
       "    <tr style=\"text-align: right;\">\n",
       "      <th></th>\n",
       "      <th>Price</th>\n",
       "      <th>RegistrationYear</th>\n",
       "      <th>Power</th>\n",
       "      <th>Kilometer</th>\n",
       "      <th>RegistrationMonth</th>\n",
       "      <th>PostalCode</th>\n",
       "    </tr>\n",
       "  </thead>\n",
       "  <tbody>\n",
       "    <tr>\n",
       "      <th>Price</th>\n",
       "      <td>1.000000</td>\n",
       "      <td>0.550988</td>\n",
       "      <td>0.512604</td>\n",
       "      <td>-0.314412</td>\n",
       "      <td>0.155247</td>\n",
       "      <td>0.078933</td>\n",
       "    </tr>\n",
       "    <tr>\n",
       "      <th>RegistrationYear</th>\n",
       "      <td>0.550988</td>\n",
       "      <td>1.000000</td>\n",
       "      <td>0.160182</td>\n",
       "      <td>-0.294567</td>\n",
       "      <td>0.052692</td>\n",
       "      <td>0.034934</td>\n",
       "    </tr>\n",
       "    <tr>\n",
       "      <th>Power</th>\n",
       "      <td>0.512604</td>\n",
       "      <td>0.160182</td>\n",
       "      <td>1.000000</td>\n",
       "      <td>0.084509</td>\n",
       "      <td>0.128826</td>\n",
       "      <td>0.081066</td>\n",
       "    </tr>\n",
       "    <tr>\n",
       "      <th>Kilometer</th>\n",
       "      <td>-0.314412</td>\n",
       "      <td>-0.294567</td>\n",
       "      <td>0.084509</td>\n",
       "      <td>1.000000</td>\n",
       "      <td>-0.011119</td>\n",
       "      <td>-0.017086</td>\n",
       "    </tr>\n",
       "    <tr>\n",
       "      <th>RegistrationMonth</th>\n",
       "      <td>0.155247</td>\n",
       "      <td>0.052692</td>\n",
       "      <td>0.128826</td>\n",
       "      <td>-0.011119</td>\n",
       "      <td>1.000000</td>\n",
       "      <td>0.014935</td>\n",
       "    </tr>\n",
       "    <tr>\n",
       "      <th>PostalCode</th>\n",
       "      <td>0.078933</td>\n",
       "      <td>0.034934</td>\n",
       "      <td>0.081066</td>\n",
       "      <td>-0.017086</td>\n",
       "      <td>0.014935</td>\n",
       "      <td>1.000000</td>\n",
       "    </tr>\n",
       "  </tbody>\n",
       "</table>\n",
       "</div>"
      ],
      "text/plain": [
       "                      Price  RegistrationYear     Power  Kilometer  \\\n",
       "Price              1.000000          0.550988  0.512604  -0.314412   \n",
       "RegistrationYear   0.550988          1.000000  0.160182  -0.294567   \n",
       "Power              0.512604          0.160182  1.000000   0.084509   \n",
       "Kilometer         -0.314412         -0.294567  0.084509   1.000000   \n",
       "RegistrationMonth  0.155247          0.052692  0.128826  -0.011119   \n",
       "PostalCode         0.078933          0.034934  0.081066  -0.017086   \n",
       "\n",
       "                   RegistrationMonth  PostalCode  \n",
       "Price                       0.155247    0.078933  \n",
       "RegistrationYear            0.052692    0.034934  \n",
       "Power                       0.128826    0.081066  \n",
       "Kilometer                  -0.011119   -0.017086  \n",
       "RegistrationMonth           1.000000    0.014935  \n",
       "PostalCode                  0.014935    1.000000  "
      ]
     },
     "metadata": {},
     "output_type": "display_data"
    },
    {
     "data": {
      "text/html": [
       "<br><h1 align='center'>Гистограммы</h1>"
      ],
      "text/plain": [
       "<IPython.core.display.HTML object>"
      ]
     },
     "metadata": {},
     "output_type": "display_data"
    },
    {
     "data": {
      "image/png": "[encoded data removed]",
      "text/plain": [
       "<Figure size 1500x2500 with 12 Axes>"
      ]
     },
     "metadata": {},
     "output_type": "display_data"
    },
    {
     "data": {
      "text/html": [
       "<br><h1 align='center'>Пропуски</h1>"
      ],
      "text/plain": [
       "<IPython.core.display.HTML object>"
      ]
     },
     "metadata": {},
     "output_type": "display_data"
    },
    {
     "data": {
      "text/plain": [
       "DateCrawled              0\n",
       "Price                    0\n",
       "VehicleType          37490\n",
       "RegistrationYear         0\n",
       "Gearbox              19833\n",
       "Power                    0\n",
       "Model                19705\n",
       "Kilometer                0\n",
       "RegistrationMonth        0\n",
       "FuelType             32895\n",
       "Brand                    0\n",
       "Repaired             71154\n",
       "DateCreated              0\n",
       "NumberOfPictures         0\n",
       "PostalCode               0\n",
       "LastSeen                 0\n",
       "dtype: int64"
      ]
     },
     "metadata": {},
     "output_type": "display_data"
    }
   ],
   "source": [
    "exploratory_analysis(autos, ['NumberOfPictures']) #из корреляции уберём столбец NumberOfPictures, т.к. он содержит одни нули"
   ]
  },
  {
   "cell_type": "markdown",
   "metadata": {},
   "source": [
    "**Выводы:**\n",
    "1. датафрейм `autos` содержит 354369 строк и 16 столбцов;\n",
    "1. названия столбцов указаны в стиле `CamelCase` вместо `snake_case`, необходимо переименовать их;\n",
    "1. столбец `NumberOfPictures` состоит из одних нулей, поэтому его можно удалить;\n",
    "1. в данных есть аномалии и выбросы;\n",
    "1. в столбцах `VehicleType`, `Gearbox`, `Model`, `FuelType`, `Repaired` есть пропуски;\n",
    "1. между столбцами `RegistrationYear` и `Price` средняя положительная связь, между `Power` и `Price` также средняя положительная связь, а между `Kilometer` и `Price` - слабая отрицательная связь."
   ]
  },
  {
   "cell_type": "markdown",
   "metadata": {},
   "source": [
    "### Переименование столбцов"
   ]
  },
  {
   "cell_type": "markdown",
   "metadata": {},
   "source": [
    "Приведём стиль написания названия столбцов `CamelCase` к стилю `snake_case`"
   ]
  },
  {
   "cell_type": "code",
   "execution_count": 8,
   "metadata": {},
   "outputs": [
    {
     "data": {
      "text/plain": [
       "['date_crawled',\n",
       " 'price',\n",
       " 'vehicle_type',\n",
       " 'registration_year',\n",
       " 'gearbox',\n",
       " 'power',\n",
       " 'model',\n",
       " 'kilometer',\n",
       " 'registration_month',\n",
       " 'fuel_type',\n",
       " 'brand',\n",
       " 'repaired',\n",
       " 'date_created',\n",
       " 'number_of_pictures',\n",
       " 'postal_code',\n",
       " 'last_seen']"
      ]
     },
     "execution_count": 8,
     "metadata": {},
     "output_type": "execute_result"
    }
   ],
   "source": [
    "autos = autos.rename(columns=lambda column: re.sub(r'(?!^)(?=[A-Z])', '_', column).lower())\n",
    "list(autos.columns)"
   ]
  },
  {
   "cell_type": "markdown",
   "metadata": {},
   "source": [
    "### Удаление неинформативных столбцов"
   ]
  },
  {
   "cell_type": "markdown",
   "metadata": {},
   "source": [
    "Определим количество уникальных значений столбца number_of_pictures"
   ]
  },
  {
   "cell_type": "code",
   "execution_count": 9,
   "metadata": {},
   "outputs": [
    {
     "data": {
      "text/plain": [
       "1"
      ]
     },
     "execution_count": 9,
     "metadata": {},
     "output_type": "execute_result"
    }
   ],
   "source": [
    "autos.number_of_pictures.nunique()"
   ]
  },
  {
   "cell_type": "markdown",
   "metadata": {},
   "source": [
    "Так как во всех строчках присутствует одно и то же число, то данный признак неинформативен, поэтому его можно легко удалить. Так же на цену автомобиля не могут влиять даты последней активности пользователя, а также дата скачивания анкеты из базы"
   ]
  },
  {
   "cell_type": "code",
   "execution_count": 10,
   "metadata": {},
   "outputs": [
    {
     "name": "stdout",
     "output_type": "stream",
     "text": [
      "<class 'pandas.core.frame.DataFrame'>\n",
      "RangeIndex: 354369 entries, 0 to 354368\n",
      "Data columns (total 13 columns):\n",
      " #   Column              Non-Null Count   Dtype         \n",
      "---  ------              --------------   -----         \n",
      " 0   price               354369 non-null  int64         \n",
      " 1   vehicle_type        316879 non-null  object        \n",
      " 2   registration_year   354369 non-null  int64         \n",
      " 3   gearbox             334536 non-null  object        \n",
      " 4   power               354369 non-null  int64         \n",
      " 5   model               334664 non-null  object        \n",
      " 6   kilometer           354369 non-null  int64         \n",
      " 7   registration_month  354369 non-null  int64         \n",
      " 8   fuel_type           321474 non-null  object        \n",
      " 9   brand               354369 non-null  object        \n",
      " 10  repaired            283215 non-null  object        \n",
      " 11  date_created        354369 non-null  datetime64[ns]\n",
      " 12  postal_code         354369 non-null  int64         \n",
      "dtypes: datetime64[ns](1), int64(6), object(6)\n",
      "memory usage: 35.1+ MB\n"
     ]
    }
   ],
   "source": [
    "autos = autos.drop(columns=['number_of_pictures','last_seen','date_crawled'], errors='ignore')\n",
    "autos.info()"
   ]
  },
  {
   "cell_type": "markdown",
   "metadata": {},
   "source": [
    "### Заполнение пропусков"
   ]
  },
  {
   "cell_type": "markdown",
   "metadata": {},
   "source": [
    "Заполним пропуски в столбцах `vehicle_type`, `gearbox` и `fuel_type` самым часто встречающимся значением для данной модели, марки и года регистрации"
   ]
  },
  {
   "cell_type": "code",
   "execution_count": 11,
   "metadata": {},
   "outputs": [
    {
     "name": "stderr",
     "output_type": "stream",
     "text": [
      " 85%|█████████████████████████████████████████████████████████████████▋           | 6824/8005 [00:12<00:02, 562.51it/s]\n"
     ]
    },
    {
     "data": {
      "text/plain": [
       "price                     0\n",
       "vehicle_type          20102\n",
       "registration_year         0\n",
       "gearbox                4463\n",
       "power                     0\n",
       "model                 19705\n",
       "kilometer                 0\n",
       "registration_month        0\n",
       "fuel_type              7579\n",
       "brand                     0\n",
       "repaired              71154\n",
       "date_created              0\n",
       "postal_code               0\n",
       "dtype: int64"
      ]
     },
     "execution_count": 11,
     "metadata": {},
     "output_type": "execute_result"
    }
   ],
   "source": [
    "for name, group in tqdm(autos.groupby(['brand','model','registration_year'])):\n",
    "    for col in ['vehicle_type','gearbox','fuel_type']:\n",
    "        #проверяем есть ли в столбце из группы пропуски\n",
    "        cnt_na = group[col].isna().sum()\n",
    "        if cnt_na==0 or cnt_na==group.shape[0]: #если все значения - без пропусков или одни пропуски\n",
    "            continue\n",
    "        else:            \n",
    "            autos.loc[group.index, col] = group.fillna(group[col].value_counts().idxmax())\n",
    "autos.isna().sum()"
   ]
  },
  {
   "cell_type": "markdown",
   "metadata": {},
   "source": [
    "Не все пропуски удалось заменить, оставшиеся пропуски заменим самыми часто встречающимися значениями, без учёта года регистрации"
   ]
  },
  {
   "cell_type": "code",
   "execution_count": 12,
   "metadata": {},
   "outputs": [
    {
     "name": "stderr",
     "output_type": "stream",
     "text": [
      " 88%|█████████████████████████████████████████████████████████████████████▌         | 297/337 [00:02<00:00, 102.87it/s]\n"
     ]
    },
    {
     "data": {
      "text/plain": [
       "price                     0\n",
       "vehicle_type           6828\n",
       "registration_year         0\n",
       "gearbox                4131\n",
       "power                     0\n",
       "model                 19705\n",
       "kilometer                 0\n",
       "registration_month        0\n",
       "fuel_type              7163\n",
       "brand                     0\n",
       "repaired              71154\n",
       "date_created              0\n",
       "postal_code               0\n",
       "dtype: int64"
      ]
     },
     "execution_count": 12,
     "metadata": {},
     "output_type": "execute_result"
    }
   ],
   "source": [
    "for name, group in tqdm(autos.groupby(['brand','model'])):\n",
    "    for col in ['vehicle_type','gearbox','fuel_type']:\n",
    "        #проверяем есть ли в столбце из группы пропуски\n",
    "        cnt_na = group[col].isna().sum()\n",
    "        if cnt_na==0 or cnt_na==group.shape[0]: #если все значения - без пропусков или одни пропуски\n",
    "            continue\n",
    "        else:            \n",
    "            autos.loc[group.index, col] = group.fillna(group[col].value_counts().idxmax())\n",
    "autos.isna().sum()"
   ]
  },
  {
   "cell_type": "markdown",
   "metadata": {},
   "source": [
    "Значения в столбцах `model` и `repaired` восстановить невозможно."
   ]
  },
  {
   "cell_type": "markdown",
   "metadata": {},
   "source": [
    "### Обработка аномалий и выбросов"
   ]
  },
  {
   "cell_type": "markdown",
   "metadata": {},
   "source": [
    "#### Год регистрации автомобиля"
   ]
  },
  {
   "cell_type": "markdown",
   "metadata": {},
   "source": [
    "В датафрейме год регистрации автомобиля указан находится в диапазоне 1000-9999, явно есть аномалии, поэтому в качесте ориентира возьмём диаграмму размаха"
   ]
  },
  {
   "cell_type": "code",
   "execution_count": 13,
   "metadata": {},
   "outputs": [
    {
     "data": {
      "image/png": "[encoded data removed]",
      "text/plain": [
       "<Figure size 640x480 with 1 Axes>"
      ]
     },
     "metadata": {},
     "output_type": "display_data"
    }
   ],
   "source": [
    "autos.registration_year.plot(kind='box', ylim=[1985,2020], yticks=range(1984,2020,2), grid=True);\n",
    "plt.title('Год регистрации автомобиля');"
   ]
  },
  {
   "cell_type": "markdown",
   "metadata": {},
   "source": [
    "По диаграмме размаха видно, что основные даты регистрации автомобилей - в интервале от 1986 до 2019 года. Но т.к. дата создания анкеты и дата последней активности пользователя не превышают 2016 год, то всё, что больше 2016 года необходимо считать аномалией и можно удалить. Посчитаем долю анкет с автомобилями, которые зарегистрированы до 1986 года и после 2016. 2016 год необходимо также удалить, т.к. данные были собраны вначале года, а выставлять на продажу автомобиль со сроком эксплуатации 2-3 месяца бессмысленно."
   ]
  },
  {
   "cell_type": "code",
   "execution_count": 14,
   "metadata": {},
   "outputs": [
    {
     "data": {
      "text/plain": [
       "8.55972164608078"
      ]
     },
     "execution_count": 14,
     "metadata": {},
     "output_type": "execute_result"
    }
   ],
   "source": [
    "autos.query('registration_year<1986 or registration_year>=2016').shape[0]/autos.shape[0]*100"
   ]
  },
  {
   "cell_type": "markdown",
   "metadata": {},
   "source": [
    "8.6% не так много, удаляем эти строки"
   ]
  },
  {
   "cell_type": "code",
   "execution_count": 15,
   "metadata": {},
   "outputs": [
    {
     "data": {
      "text/plain": [
       "(324036, 13)"
      ]
     },
     "execution_count": 15,
     "metadata": {},
     "output_type": "execute_result"
    }
   ],
   "source": [
    "autos = autos.query('registration_year>=1986 and registration_year<2016').reset_index(drop=True)\n",
    "autos.shape"
   ]
  },
  {
   "cell_type": "markdown",
   "metadata": {},
   "source": [
    "#### Цена автомобиля"
   ]
  },
  {
   "cell_type": "markdown",
   "metadata": {},
   "source": [
    "Минимальная цена автомобиля равна 0. Скорее всего это сделано для привлечения покупателей и на основе их предложений продавец сформирует свою цену. Так как цену необходимо спрогнозировать, то эти данные плохо подходят к нашей задачи. Посмотрим на поведение гистограммы недалеко от 0"
   ]
  },
  {
   "cell_type": "code",
   "execution_count": 16,
   "metadata": {},
   "outputs": [
    {
     "data": {
      "image/png": "[encoded data removed]",
      "text/plain": [
       "<Figure size 1000x500 with 1 Axes>"
      ]
     },
     "metadata": {},
     "output_type": "display_data"
    }
   ],
   "source": [
    "autos.loc[autos.price<1000,'price'].hist(bins=20, figsize=(10,5), xrot=90)\n",
    "plt.xticks(range(0,1000,100));\n",
    "plt.show()"
   ]
  },
  {
   "cell_type": "markdown",
   "metadata": {},
   "source": [
    "В качестве границы возьмём 100 евро, посчитаем долю этих данных"
   ]
  },
  {
   "cell_type": "code",
   "execution_count": 17,
   "metadata": {},
   "outputs": [
    {
     "data": {
      "text/plain": [
       "3.3993136565073017"
      ]
     },
     "execution_count": 17,
     "metadata": {},
     "output_type": "execute_result"
    }
   ],
   "source": [
    "autos[autos.price<100].shape[0]/autos.shape[0]*100"
   ]
  },
  {
   "cell_type": "markdown",
   "metadata": {},
   "source": [
    "Удаляем эти строки"
   ]
  },
  {
   "cell_type": "code",
   "execution_count": 18,
   "metadata": {},
   "outputs": [
    {
     "data": {
      "text/plain": [
       "(313021, 13)"
      ]
     },
     "execution_count": 18,
     "metadata": {},
     "output_type": "execute_result"
    }
   ],
   "source": [
    "autos = autos[autos.price>=100]\n",
    "autos.shape"
   ]
  },
  {
   "cell_type": "markdown",
   "metadata": {},
   "source": [
    "#### Мощность автомобиля"
   ]
  },
  {
   "cell_type": "code",
   "execution_count": 19,
   "metadata": {},
   "outputs": [
    {
     "data": {
      "image/png": "[encoded data removed]",
      "text/plain": [
       "<Figure size 1000x500 with 1 Axes>"
      ]
     },
     "metadata": {},
     "output_type": "display_data"
    }
   ],
   "source": [
    "autos.loc[autos.power<500, 'power'].hist(bins=20, figsize=(10,5));\n",
    "plt.xticks(range(0,550,50));"
   ]
  },
  {
   "cell_type": "markdown",
   "metadata": {},
   "source": [
    "Изменим масштаб по оси y для того, чтобы лучше увидеть верхнюю границу диапазона мощности автомобилей"
   ]
  },
  {
   "cell_type": "code",
   "execution_count": 20,
   "metadata": {},
   "outputs": [
    {
     "data": {
      "image/png": "[encoded data removed]",
      "text/plain": [
       "<Figure size 1000x500 with 1 Axes>"
      ]
     },
     "metadata": {},
     "output_type": "display_data"
    }
   ],
   "source": [
    "autos.loc[autos.power<1000, 'power'].hist(bins=20, figsize=(10,5));\n",
    "plt.xticks(range(0,1050,50));\n",
    "plt.ylim([0,1000]);"
   ]
  },
  {
   "cell_type": "markdown",
   "metadata": {},
   "source": [
    "Очевидно, что значения меньше 50 и больше 600 - это аномальные значения, посчитаем их долю"
   ]
  },
  {
   "cell_type": "code",
   "execution_count": 21,
   "metadata": {},
   "outputs": [
    {
     "data": {
      "text/plain": [
       "10.37853690327486"
      ]
     },
     "execution_count": 21,
     "metadata": {},
     "output_type": "execute_result"
    }
   ],
   "source": [
    "anomal_power = autos.loc[(autos.power<50)| (autos.power>600)]\n",
    "anomal_power.shape[0]/autos.shape[0]*100"
   ]
  },
  {
   "cell_type": "markdown",
   "metadata": {},
   "source": [
    "Сгруппируем по модели, бренду и году регистрации, а потом заполним средним значением, характерным для данной группы"
   ]
  },
  {
   "cell_type": "code",
   "execution_count": 22,
   "metadata": {},
   "outputs": [
    {
     "name": "stderr",
     "output_type": "stream",
     "text": [
      " 85%|█████████████████████████████████████████████████████████████████▋           | 3039/3562 [00:03<00:00, 942.02it/s]\n"
     ]
    },
    {
     "data": {
      "text/plain": [
       "1.1858629293242307"
      ]
     },
     "execution_count": 22,
     "metadata": {},
     "output_type": "execute_result"
    }
   ],
   "source": [
    "autos_model_power = (autos.drop(index=anomal_power.index)\n",
    "                     .groupby(['brand','model','registration_year'])['power']\n",
    "                     .agg(['sum','count'])\n",
    "                     .rename(columns={'sum':'sum_power', 'count':'count_power'})\n",
    "                     .reset_index(level='registration_year')\n",
    "                    )\n",
    "for name, group in tqdm(anomal_power.groupby(['brand','model','registration_year'])): \n",
    "    if (name[0], name[1]) in autos_model_power.index:\n",
    "        power_by_model = autos_model_power.loc[(autos_model_power.index==(name[0], name[1]))]\n",
    "        power_by_year = power_by_model.loc[power_by_model.registration_year==name[2]] \n",
    "        mean_power = (power_by_year.sum_power/power_by_year.count_power).mean()\n",
    "        if mean_power is np.nan or mean_power<50 or mean_power>600:            \n",
    "            mean_power = power_by_model.sum_power.sum()/power_by_model.count_power.sum()        \n",
    "        autos.loc[group.index,'power'] = int(np.round(mean_power))\n",
    "del autos_model_power\n",
    "autos.loc[(autos.power<50)| (autos.power>600)].shape[0]/autos.shape[0]*100"
   ]
  },
  {
   "cell_type": "markdown",
   "metadata": {},
   "source": [
    "Удалим оставшиеся аномальные значения"
   ]
  },
  {
   "cell_type": "code",
   "execution_count": 23,
   "metadata": {},
   "outputs": [
    {
     "data": {
      "text/plain": [
       "(309309, 13)"
      ]
     },
     "execution_count": 23,
     "metadata": {},
     "output_type": "execute_result"
    }
   ],
   "source": [
    "autos = autos[(autos.power>=50) & (autos.power<=600)].reset_index(drop=True)\n",
    "autos.shape"
   ]
  },
  {
   "cell_type": "markdown",
   "metadata": {},
   "source": [
    "#### Месяц регистрации"
   ]
  },
  {
   "cell_type": "markdown",
   "metadata": {},
   "source": [
    "Минимальное значение месяца регистрации - 0, заменим его на самый часто встречающийся месяц"
   ]
  },
  {
   "cell_type": "code",
   "execution_count": 24,
   "metadata": {},
   "outputs": [
    {
     "data": {
      "text/plain": [
       "0"
      ]
     },
     "execution_count": 24,
     "metadata": {},
     "output_type": "execute_result"
    }
   ],
   "source": [
    "autos.loc[autos.registration_month==0,'registration_month'] = int(autos.registration_month.mode())\n",
    "autos.loc[autos.registration_month==0,'registration_month'].shape[0]"
   ]
  },
  {
   "cell_type": "markdown",
   "metadata": {},
   "source": [
    "#### Дата создания анкеты"
   ]
  },
  {
   "cell_type": "code",
   "execution_count": 25,
   "metadata": {},
   "outputs": [
    {
     "data": {
      "image/png": "[encoded data removed]",
      "text/plain": [
       "<Figure size 1000x500 with 1 Axes>"
      ]
     },
     "metadata": {},
     "output_type": "display_data"
    }
   ],
   "source": [
    "autos.date_created.hist(figsize=(10,5), bins=20, xrot=90)\n",
    "plt.ylim([0,100]);"
   ]
  },
  {
   "cell_type": "markdown",
   "metadata": {},
   "source": [
    "Основная часть анкет приходится на временной интервал 10.2015 - 04.2016. При этом есть анкеты и 2014 года, которорые пользователи по той или иной причине не удалили, но т.к. временной период достаточно близок к 2016 году, то нет смысла его удалять."
   ]
  },
  {
   "cell_type": "markdown",
   "metadata": {},
   "source": [
    "### Объединение столбцов `registration_year` и `registration_month`"
   ]
  },
  {
   "cell_type": "markdown",
   "metadata": {},
   "source": [
    "Так как в конечном итоге важен возраст автомобиля, а не конкретный месяц регистрации, то объединим два столбца"
   ]
  },
  {
   "cell_type": "code",
   "execution_count": 26,
   "metadata": {},
   "outputs": [
    {
     "data": {
      "text/plain": [
       "(309309, 12)"
      ]
     },
     "execution_count": 26,
     "metadata": {},
     "output_type": "execute_result"
    }
   ],
   "source": [
    "autos['registration_date'] = pd.to_datetime({'year':autos.registration_year, 'month':autos.registration_month, 'day':1})\n",
    "autos = autos.drop(columns=['registration_year','registration_month'])\n",
    "autos.shape"
   ]
  },
  {
   "cell_type": "markdown",
   "metadata": {},
   "source": [
    "### Удаление дубликатов"
   ]
  },
  {
   "cell_type": "markdown",
   "metadata": {},
   "source": [
    "Посчитаем количество дубликатов"
   ]
  },
  {
   "cell_type": "code",
   "execution_count": 27,
   "metadata": {},
   "outputs": [
    {
     "data": {
      "text/plain": [
       "9690"
      ]
     },
     "execution_count": 27,
     "metadata": {},
     "output_type": "execute_result"
    }
   ],
   "source": [
    "autos.duplicated().sum()"
   ]
  },
  {
   "cell_type": "markdown",
   "metadata": {},
   "source": [
    "Количество небольшое относительно всего датасета, удалим их"
   ]
  },
  {
   "cell_type": "code",
   "execution_count": 28,
   "metadata": {},
   "outputs": [
    {
     "data": {
      "text/plain": [
       "(299619, 12)"
      ]
     },
     "execution_count": 28,
     "metadata": {},
     "output_type": "execute_result"
    }
   ],
   "source": [
    "autos = autos.drop_duplicates().reset_index(drop=True)\n",
    "autos.shape"
   ]
  },
  {
   "cell_type": "markdown",
   "metadata": {},
   "source": [
    "### Результаты предобработки"
   ]
  },
  {
   "cell_type": "markdown",
   "metadata": {},
   "source": [
    "Посмотрим, что получилось после предобработки"
   ]
  },
  {
   "cell_type": "code",
   "execution_count": 29,
   "metadata": {
    "scrolled": false
   },
   "outputs": [
    {
     "data": {
      "text/html": [
       "<br><h1 align='center'>Основная информация</h1>"
      ],
      "text/plain": [
       "<IPython.core.display.HTML object>"
      ]
     },
     "metadata": {},
     "output_type": "display_data"
    },
    {
     "name": "stdout",
     "output_type": "stream",
     "text": [
      "<class 'pandas.core.frame.DataFrame'>\n",
      "RangeIndex: 299619 entries, 0 to 299618\n",
      "Data columns (total 12 columns):\n",
      " #   Column             Non-Null Count   Dtype         \n",
      "---  ------             --------------   -----         \n",
      " 0   price              299619 non-null  int64         \n",
      " 1   vehicle_type       298935 non-null  object        \n",
      " 2   gearbox            299107 non-null  object        \n",
      " 3   power              299619 non-null  int64         \n",
      " 4   model              290529 non-null  object        \n",
      " 5   kilometer          299619 non-null  int64         \n",
      " 6   fuel_type          297609 non-null  object        \n",
      " 7   brand              299619 non-null  object        \n",
      " 8   repaired           250065 non-null  object        \n",
      " 9   date_created       299619 non-null  datetime64[ns]\n",
      " 10  postal_code        299619 non-null  int64         \n",
      " 11  registration_date  299619 non-null  datetime64[ns]\n",
      "dtypes: datetime64[ns](2), int64(4), object(6)\n",
      "memory usage: 27.4+ MB\n"
     ]
    },
    {
     "data": {
      "text/html": [
       "<div>\n",
       "<style scoped>\n",
       "    .dataframe tbody tr th:only-of-type {\n",
       "        vertical-align: middle;\n",
       "    }\n",
       "\n",
       "    .dataframe tbody tr th {\n",
       "        vertical-align: top;\n",
       "    }\n",
       "\n",
       "    .dataframe thead th {\n",
       "        text-align: right;\n",
       "    }\n",
       "</style>\n",
       "<table border=\"1\" class=\"dataframe\">\n",
       "  <thead>\n",
       "    <tr style=\"text-align: right;\">\n",
       "      <th></th>\n",
       "      <th>price</th>\n",
       "      <th>power</th>\n",
       "      <th>kilometer</th>\n",
       "      <th>postal_code</th>\n",
       "    </tr>\n",
       "  </thead>\n",
       "  <tbody>\n",
       "    <tr>\n",
       "      <th>count</th>\n",
       "      <td>299619.000000</td>\n",
       "      <td>299619.000000</td>\n",
       "      <td>299619.000000</td>\n",
       "      <td>299619.000000</td>\n",
       "    </tr>\n",
       "    <tr>\n",
       "      <th>mean</th>\n",
       "      <td>4687.264993</td>\n",
       "      <td>120.776406</td>\n",
       "      <td>128948.464550</td>\n",
       "      <td>50985.351516</td>\n",
       "    </tr>\n",
       "    <tr>\n",
       "      <th>std</th>\n",
       "      <td>4547.863530</td>\n",
       "      <td>52.557508</td>\n",
       "      <td>36461.626093</td>\n",
       "      <td>25768.469690</td>\n",
       "    </tr>\n",
       "    <tr>\n",
       "      <th>min</th>\n",
       "      <td>100.000000</td>\n",
       "      <td>50.000000</td>\n",
       "      <td>5000.000000</td>\n",
       "      <td>1067.000000</td>\n",
       "    </tr>\n",
       "    <tr>\n",
       "      <th>25%</th>\n",
       "      <td>1250.000000</td>\n",
       "      <td>78.000000</td>\n",
       "      <td>125000.000000</td>\n",
       "      <td>30655.000000</td>\n",
       "    </tr>\n",
       "    <tr>\n",
       "      <th>50%</th>\n",
       "      <td>2999.000000</td>\n",
       "      <td>112.000000</td>\n",
       "      <td>150000.000000</td>\n",
       "      <td>49757.000000</td>\n",
       "    </tr>\n",
       "    <tr>\n",
       "      <th>75%</th>\n",
       "      <td>6795.000000</td>\n",
       "      <td>150.000000</td>\n",
       "      <td>150000.000000</td>\n",
       "      <td>71665.000000</td>\n",
       "    </tr>\n",
       "    <tr>\n",
       "      <th>max</th>\n",
       "      <td>20000.000000</td>\n",
       "      <td>600.000000</td>\n",
       "      <td>150000.000000</td>\n",
       "      <td>99998.000000</td>\n",
       "    </tr>\n",
       "  </tbody>\n",
       "</table>\n",
       "</div>"
      ],
      "text/plain": [
       "               price          power      kilometer    postal_code\n",
       "count  299619.000000  299619.000000  299619.000000  299619.000000\n",
       "mean     4687.264993     120.776406  128948.464550   50985.351516\n",
       "std      4547.863530      52.557508   36461.626093   25768.469690\n",
       "min       100.000000      50.000000    5000.000000    1067.000000\n",
       "25%      1250.000000      78.000000  125000.000000   30655.000000\n",
       "50%      2999.000000     112.000000  150000.000000   49757.000000\n",
       "75%      6795.000000     150.000000  150000.000000   71665.000000\n",
       "max     20000.000000     600.000000  150000.000000   99998.000000"
      ]
     },
     "metadata": {},
     "output_type": "display_data"
    },
    {
     "data": {
      "text/html": [
       "<br><h1 align='center'>Первые 10 строк</h1>"
      ],
      "text/plain": [
       "<IPython.core.display.HTML object>"
      ]
     },
     "metadata": {},
     "output_type": "display_data"
    },
    {
     "data": {
      "text/html": [
       "<div>\n",
       "<style scoped>\n",
       "    .dataframe tbody tr th:only-of-type {\n",
       "        vertical-align: middle;\n",
       "    }\n",
       "\n",
       "    .dataframe tbody tr th {\n",
       "        vertical-align: top;\n",
       "    }\n",
       "\n",
       "    .dataframe thead th {\n",
       "        text-align: right;\n",
       "    }\n",
       "</style>\n",
       "<table border=\"1\" class=\"dataframe\">\n",
       "  <thead>\n",
       "    <tr style=\"text-align: right;\">\n",
       "      <th></th>\n",
       "      <th>price</th>\n",
       "      <th>vehicle_type</th>\n",
       "      <th>gearbox</th>\n",
       "      <th>power</th>\n",
       "      <th>model</th>\n",
       "      <th>kilometer</th>\n",
       "      <th>fuel_type</th>\n",
       "      <th>brand</th>\n",
       "      <th>repaired</th>\n",
       "      <th>date_created</th>\n",
       "      <th>postal_code</th>\n",
       "      <th>registration_date</th>\n",
       "    </tr>\n",
       "  </thead>\n",
       "  <tbody>\n",
       "    <tr>\n",
       "      <th>0</th>\n",
       "      <td>480</td>\n",
       "      <td>sedan</td>\n",
       "      <td>manual</td>\n",
       "      <td>87</td>\n",
       "      <td>golf</td>\n",
       "      <td>150000</td>\n",
       "      <td>petrol</td>\n",
       "      <td>volkswagen</td>\n",
       "      <td>NaN</td>\n",
       "      <td>2016-03-24</td>\n",
       "      <td>70435</td>\n",
       "      <td>1993-03-01</td>\n",
       "    </tr>\n",
       "    <tr>\n",
       "      <th>1</th>\n",
       "      <td>18300</td>\n",
       "      <td>coupe</td>\n",
       "      <td>manual</td>\n",
       "      <td>190</td>\n",
       "      <td>NaN</td>\n",
       "      <td>125000</td>\n",
       "      <td>gasoline</td>\n",
       "      <td>audi</td>\n",
       "      <td>yes</td>\n",
       "      <td>2016-03-24</td>\n",
       "      <td>66954</td>\n",
       "      <td>2011-05-01</td>\n",
       "    </tr>\n",
       "    <tr>\n",
       "      <th>2</th>\n",
       "      <td>9800</td>\n",
       "      <td>suv</td>\n",
       "      <td>auto</td>\n",
       "      <td>163</td>\n",
       "      <td>grand</td>\n",
       "      <td>125000</td>\n",
       "      <td>gasoline</td>\n",
       "      <td>jeep</td>\n",
       "      <td>NaN</td>\n",
       "      <td>2016-03-14</td>\n",
       "      <td>90480</td>\n",
       "      <td>2004-08-01</td>\n",
       "    </tr>\n",
       "    <tr>\n",
       "      <th>3</th>\n",
       "      <td>1500</td>\n",
       "      <td>small</td>\n",
       "      <td>manual</td>\n",
       "      <td>75</td>\n",
       "      <td>golf</td>\n",
       "      <td>150000</td>\n",
       "      <td>petrol</td>\n",
       "      <td>volkswagen</td>\n",
       "      <td>no</td>\n",
       "      <td>2016-03-17</td>\n",
       "      <td>91074</td>\n",
       "      <td>2001-06-01</td>\n",
       "    </tr>\n",
       "    <tr>\n",
       "      <th>4</th>\n",
       "      <td>3600</td>\n",
       "      <td>small</td>\n",
       "      <td>manual</td>\n",
       "      <td>69</td>\n",
       "      <td>fabia</td>\n",
       "      <td>90000</td>\n",
       "      <td>gasoline</td>\n",
       "      <td>skoda</td>\n",
       "      <td>no</td>\n",
       "      <td>2016-03-31</td>\n",
       "      <td>60437</td>\n",
       "      <td>2008-07-01</td>\n",
       "    </tr>\n",
       "    <tr>\n",
       "      <th>5</th>\n",
       "      <td>650</td>\n",
       "      <td>sedan</td>\n",
       "      <td>manual</td>\n",
       "      <td>102</td>\n",
       "      <td>3er</td>\n",
       "      <td>150000</td>\n",
       "      <td>petrol</td>\n",
       "      <td>bmw</td>\n",
       "      <td>yes</td>\n",
       "      <td>2016-04-04</td>\n",
       "      <td>33775</td>\n",
       "      <td>1995-10-01</td>\n",
       "    </tr>\n",
       "    <tr>\n",
       "      <th>6</th>\n",
       "      <td>2200</td>\n",
       "      <td>convertible</td>\n",
       "      <td>manual</td>\n",
       "      <td>109</td>\n",
       "      <td>2_reihe</td>\n",
       "      <td>150000</td>\n",
       "      <td>petrol</td>\n",
       "      <td>peugeot</td>\n",
       "      <td>no</td>\n",
       "      <td>2016-04-01</td>\n",
       "      <td>67112</td>\n",
       "      <td>2004-08-01</td>\n",
       "    </tr>\n",
       "    <tr>\n",
       "      <th>7</th>\n",
       "      <td>14500</td>\n",
       "      <td>bus</td>\n",
       "      <td>manual</td>\n",
       "      <td>125</td>\n",
       "      <td>c_max</td>\n",
       "      <td>30000</td>\n",
       "      <td>petrol</td>\n",
       "      <td>ford</td>\n",
       "      <td>NaN</td>\n",
       "      <td>2016-04-04</td>\n",
       "      <td>94505</td>\n",
       "      <td>2014-08-01</td>\n",
       "    </tr>\n",
       "    <tr>\n",
       "      <th>8</th>\n",
       "      <td>999</td>\n",
       "      <td>small</td>\n",
       "      <td>manual</td>\n",
       "      <td>101</td>\n",
       "      <td>golf</td>\n",
       "      <td>150000</td>\n",
       "      <td>petrol</td>\n",
       "      <td>volkswagen</td>\n",
       "      <td>NaN</td>\n",
       "      <td>2016-03-17</td>\n",
       "      <td>27472</td>\n",
       "      <td>1998-03-01</td>\n",
       "    </tr>\n",
       "    <tr>\n",
       "      <th>9</th>\n",
       "      <td>2000</td>\n",
       "      <td>sedan</td>\n",
       "      <td>manual</td>\n",
       "      <td>105</td>\n",
       "      <td>3_reihe</td>\n",
       "      <td>150000</td>\n",
       "      <td>petrol</td>\n",
       "      <td>mazda</td>\n",
       "      <td>no</td>\n",
       "      <td>2016-03-26</td>\n",
       "      <td>96224</td>\n",
       "      <td>2004-12-01</td>\n",
       "    </tr>\n",
       "  </tbody>\n",
       "</table>\n",
       "</div>"
      ],
      "text/plain": [
       "   price vehicle_type gearbox  power    model  kilometer fuel_type  \\\n",
       "0    480        sedan  manual     87     golf     150000    petrol   \n",
       "1  18300        coupe  manual    190      NaN     125000  gasoline   \n",
       "2   9800          suv    auto    163    grand     125000  gasoline   \n",
       "3   1500        small  manual     75     golf     150000    petrol   \n",
       "4   3600        small  manual     69    fabia      90000  gasoline   \n",
       "5    650        sedan  manual    102      3er     150000    petrol   \n",
       "6   2200  convertible  manual    109  2_reihe     150000    petrol   \n",
       "7  14500          bus  manual    125    c_max      30000    petrol   \n",
       "8    999        small  manual    101     golf     150000    petrol   \n",
       "9   2000        sedan  manual    105  3_reihe     150000    petrol   \n",
       "\n",
       "        brand repaired date_created  postal_code registration_date  \n",
       "0  volkswagen      NaN   2016-03-24        70435        1993-03-01  \n",
       "1        audi      yes   2016-03-24        66954        2011-05-01  \n",
       "2        jeep      NaN   2016-03-14        90480        2004-08-01  \n",
       "3  volkswagen       no   2016-03-17        91074        2001-06-01  \n",
       "4       skoda       no   2016-03-31        60437        2008-07-01  \n",
       "5         bmw      yes   2016-04-04        33775        1995-10-01  \n",
       "6     peugeot       no   2016-04-01        67112        2004-08-01  \n",
       "7        ford      NaN   2016-04-04        94505        2014-08-01  \n",
       "8  volkswagen      NaN   2016-03-17        27472        1998-03-01  \n",
       "9       mazda       no   2016-03-26        96224        2004-12-01  "
      ]
     },
     "metadata": {},
     "output_type": "display_data"
    },
    {
     "data": {
      "text/html": [
       "<br><h1 align='center'>Корреляция</h1>"
      ],
      "text/plain": [
       "<IPython.core.display.HTML object>"
      ]
     },
     "metadata": {},
     "output_type": "display_data"
    },
    {
     "data": {
      "text/html": [
       "<div>\n",
       "<style scoped>\n",
       "    .dataframe tbody tr th:only-of-type {\n",
       "        vertical-align: middle;\n",
       "    }\n",
       "\n",
       "    .dataframe tbody tr th {\n",
       "        vertical-align: top;\n",
       "    }\n",
       "\n",
       "    .dataframe thead th {\n",
       "        text-align: right;\n",
       "    }\n",
       "</style>\n",
       "<table border=\"1\" class=\"dataframe\">\n",
       "  <thead>\n",
       "    <tr style=\"text-align: right;\">\n",
       "      <th></th>\n",
       "      <th>price</th>\n",
       "      <th>power</th>\n",
       "      <th>kilometer</th>\n",
       "      <th>postal_code</th>\n",
       "    </tr>\n",
       "  </thead>\n",
       "  <tbody>\n",
       "    <tr>\n",
       "      <th>price</th>\n",
       "      <td>1.000000</td>\n",
       "      <td>0.527849</td>\n",
       "      <td>-0.353333</td>\n",
       "      <td>0.071830</td>\n",
       "    </tr>\n",
       "    <tr>\n",
       "      <th>power</th>\n",
       "      <td>0.527849</td>\n",
       "      <td>1.000000</td>\n",
       "      <td>0.117874</td>\n",
       "      <td>0.064479</td>\n",
       "    </tr>\n",
       "    <tr>\n",
       "      <th>kilometer</th>\n",
       "      <td>-0.353333</td>\n",
       "      <td>0.117874</td>\n",
       "      <td>1.000000</td>\n",
       "      <td>-0.021695</td>\n",
       "    </tr>\n",
       "    <tr>\n",
       "      <th>postal_code</th>\n",
       "      <td>0.071830</td>\n",
       "      <td>0.064479</td>\n",
       "      <td>-0.021695</td>\n",
       "      <td>1.000000</td>\n",
       "    </tr>\n",
       "  </tbody>\n",
       "</table>\n",
       "</div>"
      ],
      "text/plain": [
       "                price     power  kilometer  postal_code\n",
       "price        1.000000  0.527849  -0.353333     0.071830\n",
       "power        0.527849  1.000000   0.117874     0.064479\n",
       "kilometer   -0.353333  0.117874   1.000000    -0.021695\n",
       "postal_code  0.071830  0.064479  -0.021695     1.000000"
      ]
     },
     "metadata": {},
     "output_type": "display_data"
    },
    {
     "data": {
      "text/html": [
       "<br><h1 align='center'>Гистограммы</h1>"
      ],
      "text/plain": [
       "<IPython.core.display.HTML object>"
      ]
     },
     "metadata": {},
     "output_type": "display_data"
    },
    {
     "data": {
      "image/png": "[encoded data removed]",
      "text/plain": [
       "<Figure size 1500x2500 with 6 Axes>"
      ]
     },
     "metadata": {},
     "output_type": "display_data"
    },
    {
     "data": {
      "text/html": [
       "<br><h1 align='center'>Пропуски</h1>"
      ],
      "text/plain": [
       "<IPython.core.display.HTML object>"
      ]
     },
     "metadata": {},
     "output_type": "display_data"
    },
    {
     "data": {
      "text/plain": [
       "price                    0\n",
       "vehicle_type           684\n",
       "gearbox                512\n",
       "power                    0\n",
       "model                 9090\n",
       "kilometer                0\n",
       "fuel_type             2010\n",
       "brand                    0\n",
       "repaired             49554\n",
       "date_created             0\n",
       "postal_code              0\n",
       "registration_date        0\n",
       "dtype: int64"
      ]
     },
     "metadata": {},
     "output_type": "display_data"
    }
   ],
   "source": [
    "exploratory_analysis(autos)"
   ]
  },
  {
   "cell_type": "markdown",
   "metadata": {},
   "source": [
    "**В результате подготовки данных была проделана следующая работа:**\n",
    "1. изменён стиль названия столбцов с `CamelCase` на `snake_case`;\n",
    "1. удалены неинформативные столбцы `number_of_pictures`,`last_seen`,`date_crawled`;\n",
    "1. удалены дубликаты;\n",
    "1. заполнены пропуски в столбцах `vehicle_type`, `gearbox` и `fuel_type`;\n",
    "1. обработаны аномалии в годе регистрации, месяце регистрации, цене и мощности автомобиля, а также устранены выбросы в дате создания анкеты;\n",
    "1. объединены столбцы `registration_year` и `registration_month` в `registration_date`."
   ]
  },
  {
   "cell_type": "markdown",
   "metadata": {},
   "source": [
    "**Таким образом, после предобработки данных в датафрейме `autos` осталось 299619 строк и 12 столбцов.**"
   ]
  },
  {
   "cell_type": "markdown",
   "metadata": {},
   "source": [
    "## Обучение моделей"
   ]
  },
  {
   "cell_type": "markdown",
   "metadata": {},
   "source": [
    "### Подготовка данных"
   ]
  },
  {
   "cell_type": "markdown",
   "metadata": {},
   "source": [
    "#### Разбивка выборки на обучающую и тестовую"
   ]
  },
  {
   "cell_type": "markdown",
   "metadata": {},
   "source": [
    "Разобьём данные на обучающую и тестовую выборки. Так как данных достаточно много, то возьмём соотношение 80:20"
   ]
  },
  {
   "cell_type": "code",
   "execution_count": 30,
   "metadata": {},
   "outputs": [
    {
     "data": {
      "text/plain": [
       "(239695, 59924, 239695, 59924)"
      ]
     },
     "execution_count": 30,
     "metadata": {},
     "output_type": "execute_result"
    }
   ],
   "source": [
    "features = autos.drop(columns='price')\n",
    "target = autos.price\n",
    "features_train, features_test, target_train, target_test = train_test_split(features, target, train_size=0.8, random_state=RANDOM_STATE)\n",
    "\n",
    "#для устранения предупреждения от кодировщиков\n",
    "features_train=features_train.copy()\n",
    "features_test=features_test.copy()\n",
    "len(features_train), len(features_test), len(target_train), len(target_test)"
   ]
  },
  {
   "cell_type": "markdown",
   "metadata": {},
   "source": [
    "#### Кодирование категориальных признаков"
   ]
  },
  {
   "cell_type": "markdown",
   "metadata": {},
   "source": [
    "Напечатаем количество уникальных значений по каждому категориальному признаку, включая пропуски"
   ]
  },
  {
   "cell_type": "code",
   "execution_count": 31,
   "metadata": {
    "scrolled": true
   },
   "outputs": [
    {
     "name": "stdout",
     "output_type": "stream",
     "text": [
      "vehicle_type: 9\n",
      "gearbox: 3\n",
      "model: 248\n",
      "fuel_type: 8\n",
      "brand: 40\n",
      "repaired: 3\n",
      "postal_code: 8117\n"
     ]
    }
   ],
   "source": [
    "for col in ['vehicle_type','gearbox','model','fuel_type','brand','repaired','postal_code']:\n",
    "    print(f'{col}: {autos[col].nunique(dropna=False)}')"
   ]
  },
  {
   "cell_type": "markdown",
   "metadata": {},
   "source": [
    "Исходя из количества уникальных значений, применим для `vehicle_type`, `model`, `fuel_type` и `brand` бинарное кодирование, для `gearbox` и `repaired` - прямое кодирование. Учитывая, что близкие значения почтовых индексов обычно обозначают близкие территории, оптимальным способом приведения данного столбца к диапазону [0,1] будет `MinMaxScaler`."
   ]
  },
  {
   "cell_type": "code",
   "execution_count": 32,
   "metadata": {},
   "outputs": [
    {
     "name": "stderr",
     "output_type": "stream",
     "text": [
      "C:\\ProgramData\\Anaconda3\\lib\\site-packages\\sklearn\\utils\\deprecation.py:87: FutureWarning: Function get_feature_names is deprecated; get_feature_names is deprecated in 1.0 and will be removed in 1.2. Please use get_feature_names_out instead.\n",
      "  warnings.warn(msg, category=FutureWarning)\n",
      "C:\\ProgramData\\Anaconda3\\lib\\site-packages\\sklearn\\utils\\deprecation.py:87: FutureWarning: Function get_feature_names is deprecated; get_feature_names is deprecated in 1.0 and will be removed in 1.2. Please use get_feature_names_out instead.\n",
      "  warnings.warn(msg, category=FutureWarning)\n"
     ]
    }
   ],
   "source": [
    "be_cols = ['vehicle_type', 'model', 'fuel_type','brand']\n",
    "be = BinaryEncoder()\n",
    "be.fit(features_train[be_cols])\n",
    "features_train[be.get_feature_names_out()] = be.transform(features_train[be_cols])\n",
    "features_test[be.get_feature_names_out()] = be.transform(features_test[be_cols])\n",
    "\n",
    "ohe_cols = ['gearbox', 'repaired']\n",
    "ohe = OneHotEncoder(drop='first', sparse=False, dtype='int')\n",
    "ohe.fit(features_train[ohe_cols])\n",
    "features_train[ohe.get_feature_names(ohe_cols)] = ohe.transform(features_train[ohe_cols])\n",
    "features_test[ohe.get_feature_names(ohe_cols)] = ohe.transform(features_test[ohe_cols])\n",
    "\n",
    "mms_cols = ['postal_code']\n",
    "mms = MinMaxScaler()\n",
    "features_train[mms_cols] = mms.fit_transform(features_train[mms_cols])\n",
    "features_test[mms_cols] = mms.transform(features_test[mms_cols])\n",
    "\n",
    "features_train = features_train.drop(columns = be_cols + ohe_cols)\n",
    "features_test = features_test.drop(columns = be_cols + ohe_cols)"
   ]
  },
  {
   "cell_type": "markdown",
   "metadata": {},
   "source": [
    "#### Масштабирование признаков"
   ]
  },
  {
   "cell_type": "markdown",
   "metadata": {},
   "source": [
    "Приведём даты к целочисленному типу"
   ]
  },
  {
   "cell_type": "code",
   "execution_count": 33,
   "metadata": {},
   "outputs": [
    {
     "data": {
      "text/plain": [
       "(registration_date    int64\n",
       " date_created         int64\n",
       " dtype: object,\n",
       " registration_date    int64\n",
       " date_created         int64\n",
       " dtype: object)"
      ]
     },
     "execution_count": 33,
     "metadata": {},
     "output_type": "execute_result"
    }
   ],
   "source": [
    "date_cols = ['registration_date','date_created']\n",
    "features_train[date_cols] = features_train[date_cols].astype('int64')\n",
    "features_test[date_cols] = features_test[date_cols].astype('int64')\n",
    "features_train[date_cols].dtypes, features_test[['registration_date','date_created']].dtypes"
   ]
  },
  {
   "cell_type": "markdown",
   "metadata": {},
   "source": [
    "Так как признаки имёют разный масштаб, то отмасштабируем числовые признаки"
   ]
  },
  {
   "cell_type": "code",
   "execution_count": 34,
   "metadata": {},
   "outputs": [],
   "source": [
    "numeric = ['registration_date','power', 'kilometer','date_created']\n",
    "scaler = StandardScaler()\n",
    "features_train[numeric] = scaler.fit_transform(features_train[numeric])\n",
    "features_test[numeric] = scaler.transform(features_test[numeric])"
   ]
  },
  {
   "cell_type": "markdown",
   "metadata": {},
   "source": [
    "### Линейная регрессия"
   ]
  },
  {
   "cell_type": "markdown",
   "metadata": {},
   "source": [
    "В линейной регрессии подберём 2 гиперпараметра, отвечающих за регуляризацию: `alpha` и `l1_ratio`"
   ]
  },
  {
   "cell_type": "code",
   "execution_count": 35,
   "metadata": {
    "scrolled": true
   },
   "outputs": [
    {
     "name": "stdout",
     "output_type": "stream",
     "text": [
      "Fitting 5 folds for each of 10 candidates, totalling 50 fits\n",
      "Wall time: 11.4 s\n"
     ]
    },
    {
     "data": {
      "text/plain": [
       "RandomizedSearchCV(estimator=ElasticNet(random_state=28072023,\n",
       "                                        selection='random'),\n",
       "                   n_jobs=-1,\n",
       "                   param_distributions={'alpha': array([0.1, 0.2, 0.3, 0.4, 0.5, 0.6, 0.7, 0.8, 0.9]),\n",
       "                                        'l1_ratio': array([0.1, 0.2, 0.3, 0.4, 0.5, 0.6, 0.7, 0.8, 0.9])},\n",
       "                   random_state=28072023, scoring='neg_root_mean_squared_error',\n",
       "                   verbose=2)"
      ]
     },
     "execution_count": 35,
     "metadata": {},
     "output_type": "execute_result"
    }
   ],
   "source": [
    "%%time\n",
    "best_lr_model = RandomizedSearchCV(estimator=ElasticNet(selection='random', random_state=RANDOM_STATE),\n",
    "                                  param_distributions={'alpha':np.arange(0.1,1.0,0.1),\n",
    "                                                      'l1_ratio':np.arange(0.1,1.0,0.1)},\n",
    "                                  scoring='neg_root_mean_squared_error', random_state=RANDOM_STATE,\n",
    "                                  verbose=2, n_jobs=-1\n",
    "                                 )\n",
    "best_lr_model.fit(features_train, target_train);"
   ]
  },
  {
   "cell_type": "markdown",
   "metadata": {},
   "source": [
    "### Дерево решений"
   ]
  },
  {
   "cell_type": "markdown",
   "metadata": {},
   "source": [
    "В модели дерева решений подберём следующие гиперпараметры:\n",
    "- max_depth (максимально допустимая глубина дерева)\n",
    "- min_samples_split (минимальное количество примеров для разделения)\n",
    "- max_leaf_nodes (максимальное количество листовых узлов)"
   ]
  },
  {
   "cell_type": "code",
   "execution_count": 36,
   "metadata": {
    "scrolled": false
   },
   "outputs": [
    {
     "name": "stdout",
     "output_type": "stream",
     "text": [
      "Fitting 5 folds for each of 10 candidates, totalling 50 fits\n",
      "Wall time: 5.57 s\n"
     ]
    },
    {
     "data": {
      "text/plain": [
       "RandomizedSearchCV(estimator=DecisionTreeRegressor(random_state=28072023),\n",
       "                   n_jobs=-1,\n",
       "                   param_distributions={'max_depth': [2, 4, 6, 8, 10, 12, 14,\n",
       "                                                      16, 18, None],\n",
       "                                        'max_leaf_nodes': [10, 20, 30, 40, 50,\n",
       "                                                           60, 70, 80, 90, 100,\n",
       "                                                           None],\n",
       "                                        'min_samples_leaf': range(2, 22, 2)},\n",
       "                   random_state=28072023, scoring='neg_root_mean_squared_error',\n",
       "                   verbose=2)"
      ]
     },
     "execution_count": 36,
     "metadata": {},
     "output_type": "execute_result"
    }
   ],
   "source": [
    "%%time\n",
    "best_dt_model = RandomizedSearchCV(estimator=DecisionTreeRegressor(random_state=RANDOM_STATE),\n",
    "                                  param_distributions={'max_depth':list(range(2,20,2))+[None], 'min_samples_leaf': range(2,22,2), \n",
    "                                                       'max_leaf_nodes': list(range(10,110,10))+[None]},\n",
    "                                  scoring='neg_root_mean_squared_error', random_state=RANDOM_STATE, \n",
    "                                  verbose=2, n_jobs=-1\n",
    "                                 )\n",
    "best_dt_model.fit(features_train, target_train);"
   ]
  },
  {
   "cell_type": "markdown",
   "metadata": {},
   "source": [
    "### Градиентный бустинг"
   ]
  },
  {
   "cell_type": "markdown",
   "metadata": {},
   "source": [
    "В модели градиентного бустинга подберём следующие гиперпараметры:\n",
    "- boosting_type (тип бустинга)\n",
    "- max_depth (максимальная глубина дерева)\n",
    "- num_leaves (максимальное количество листьев для базовой модели)\n",
    "- n_estimators (количество деревьев)"
   ]
  },
  {
   "cell_type": "code",
   "execution_count": 37,
   "metadata": {
    "scrolled": false
   },
   "outputs": [
    {
     "name": "stdout",
     "output_type": "stream",
     "text": [
      "Fitting 5 folds for each of 10 candidates, totalling 50 fits\n",
      "[LightGBM] [Info] Total Bins 901\n",
      "[LightGBM] [Info] Number of data points in the train set: 239695, number of used features: 31\n",
      "[LightGBM] [Info] Start training from score 4685.869835\n",
      "Wall time: 18.3 s\n"
     ]
    },
    {
     "data": {
      "text/plain": [
       "RandomizedSearchCV(estimator=LGBMRegressor(force_row_wise=True,\n",
       "                                           random_state=28072023),\n",
       "                   n_jobs=-1,\n",
       "                   param_distributions={'boosting_type': ['gbdt', 'dart'],\n",
       "                                        'max_depth': range(0, 10),\n",
       "                                        'n_estimators': range(10, 200, 10),\n",
       "                                        'num_leaves': range(5, 50, 5)},\n",
       "                   random_state=28072023, scoring='neg_root_mean_squared_error',\n",
       "                   verbose=2)"
      ]
     },
     "execution_count": 37,
     "metadata": {},
     "output_type": "execute_result"
    }
   ],
   "source": [
    "%%time\n",
    "best_lgbm_model = RandomizedSearchCV(estimator=LGBMRegressor(random_state=RANDOM_STATE,force_row_wise=True),\n",
    "                                  param_distributions={\n",
    "                                                       'boosting_type':['gbdt','dart'],\n",
    "                                                       'max_depth':range(10), \n",
    "                                                       'num_leaves':range(5,50,5),\n",
    "                                                       'n_estimators': range(10,200,10)\n",
    "                                                      },\n",
    "                                  scoring='neg_root_mean_squared_error', random_state=RANDOM_STATE, \n",
    "                                  verbose=2, n_jobs=-1\n",
    "                                 )\n",
    "best_lgbm_model.fit(features_train, target_train);"
   ]
  },
  {
   "cell_type": "markdown",
   "metadata": {},
   "source": [
    "## Анализ моделей"
   ]
  },
  {
   "cell_type": "markdown",
   "metadata": {},
   "source": [
    "### Сравнение моделей по скорости работы и значению метрики"
   ]
  },
  {
   "cell_type": "markdown",
   "metadata": {},
   "source": [
    "Время обучения"
   ]
  },
  {
   "cell_type": "code",
   "execution_count": 38,
   "metadata": {},
   "outputs": [
    {
     "name": "stdout",
     "output_type": "stream",
     "text": [
      "Wall time: 725 ms\n",
      "--------------------\n",
      "Wall time: 952 ms\n",
      "--------------------\n",
      "[LightGBM] [Info] Total Bins 901\n",
      "[LightGBM] [Info] Number of data points in the train set: 239695, number of used features: 31\n",
      "[LightGBM] [Info] Start training from score 4685.869835\n",
      "Wall time: 617 ms\n"
     ]
    },
    {
     "data": {
      "text/plain": [
       "LGBMRegressor(force_row_wise=True, max_depth=7, n_estimators=190, num_leaves=15,\n",
       "              random_state=28072023)"
      ]
     },
     "execution_count": 38,
     "metadata": {},
     "output_type": "execute_result"
    }
   ],
   "source": [
    "%time best_lr_model.best_estimator_.fit(features_train, target_train);\n",
    "print('-'*20)\n",
    "%time best_dt_model.best_estimator_.fit(features_train, target_train);\n",
    "print('-'*20)\n",
    "%time best_lgbm_model.best_estimator_.fit(features_train, target_train);"
   ]
  },
  {
   "cell_type": "markdown",
   "metadata": {},
   "source": [
    "Время предсказания"
   ]
  },
  {
   "cell_type": "code",
   "execution_count": 39,
   "metadata": {},
   "outputs": [
    {
     "name": "stdout",
     "output_type": "stream",
     "text": [
      "Wall time: 38.3 ms\n",
      "--------------------\n",
      "Wall time: 70 ms\n",
      "--------------------\n",
      "Wall time: 243 ms\n"
     ]
    },
    {
     "data": {
      "text/plain": [
       "array([1265.09245231, 2213.50545837, 1884.47005561, ..., 3587.71174157,\n",
       "       9849.52761947, 3629.7815804 ])"
      ]
     },
     "execution_count": 39,
     "metadata": {},
     "output_type": "execute_result"
    }
   ],
   "source": [
    "%time best_lr_model.best_estimator_.predict(features_train);\n",
    "print('-'*20)\n",
    "%time best_dt_model.best_estimator_.predict(features_train);\n",
    "print('-'*20)\n",
    "%time best_lgbm_model.best_estimator_.predict(features_train);"
   ]
  },
  {
   "cell_type": "markdown",
   "metadata": {},
   "source": [
    "Значение метрики RMSE"
   ]
  },
  {
   "cell_type": "code",
   "execution_count": 40,
   "metadata": {},
   "outputs": [
    {
     "data": {
      "text/plain": [
       "array([2563., 2014., 1667.])"
      ]
     },
     "execution_count": 40,
     "metadata": {},
     "output_type": "execute_result"
    }
   ],
   "source": [
    "-np.round([best_lr_model.best_score_, best_dt_model.best_score_, best_lgbm_model.best_score_])"
   ]
  },
  {
   "cell_type": "markdown",
   "metadata": {},
   "source": [
    "**Выводы:**\n",
    "1. самая быстрая модель по времени обучения - градиентный бустинг, самая же быстрая по времени предсказания - линейная модель, градиентный бустинг предсказывает гораздо дольше, чем линейная модель или дерево решений \n",
    "1. самое лучшее качество у модели - градиентного бустинга, модель линейной регрессии немного не вписывается в заданный критерий RMSE<2500\n",
    "1. учитывая, что кроме качества модели, важна и скорость работы, то остановимся на модели дерева решений\n",
    "1. критерии отбора модели сформулированы нечётко, поэтому для подбора более идеальной модели желательно их уточнить"
   ]
  },
  {
   "cell_type": "markdown",
   "metadata": {},
   "source": [
    "### Тестирование наилучшей модели"
   ]
  },
  {
   "cell_type": "markdown",
   "metadata": {},
   "source": [
    "Рассчитаем RMSE для модели дерева решений на тестовой выборке"
   ]
  },
  {
   "cell_type": "code",
   "execution_count": 41,
   "metadata": {},
   "outputs": [
    {
     "data": {
      "text/plain": [
       "2003"
      ]
     },
     "execution_count": 41,
     "metadata": {},
     "output_type": "execute_result"
    }
   ],
   "source": [
    "round(mean_squared_error(target_test, best_dt_model.predict(features_test), squared=False))"
   ]
  },
  {
   "cell_type": "markdown",
   "metadata": {},
   "source": [
    "**RMSE на тестовой выборке почти не отличается от RMSE на обучающей выборке, что говорит о стабильности работы модели**"
   ]
  },
  {
   "cell_type": "markdown",
   "metadata": {},
   "source": [
    "### Проверка обученной модели на адекватность"
   ]
  },
  {
   "cell_type": "markdown",
   "metadata": {},
   "source": [
    "Проверим обученную модель дерева решений на адекватность, сравнив значения метрики RMSE у дерева решений и константной модели "
   ]
  },
  {
   "cell_type": "code",
   "execution_count": 42,
   "metadata": {},
   "outputs": [
    {
     "data": {
      "text/plain": [
       "4554"
      ]
     },
     "execution_count": 42,
     "metadata": {},
     "output_type": "execute_result"
    }
   ],
   "source": [
    "dummy_model = DummyRegressor(strategy='mean')\n",
    "dummy_model.fit(features_train, target_train)\n",
    "round(mean_squared_error(target_test, dummy_model.predict(features_test), squared=False))"
   ]
  },
  {
   "cell_type": "markdown",
   "metadata": {},
   "source": [
    "**Ошибка у константной модели более чем в 2 раза больше, чем у обученной модели дерева решений. Таким образом, полученная модель дерева решений является адекватной и её можно внедрять в продакшен**"
   ]
  },
  {
   "cell_type": "markdown",
   "metadata": {},
   "source": [
    "## Общие выводы"
   ]
  },
  {
   "cell_type": "markdown",
   "metadata": {},
   "source": [
    "В процессе исследования была проведена следующая работа :\n",
    "- проведён первичный анализ данных (EDA);\n",
    "- поменян стиль написания названия столбцов с `CamelCase` на `snake_case`;\n",
    "- удалены неинформативные столбцы `number_of_pictures`, `last_seen` и `date_crawled`;\n",
    "- удалены дубликаты;\n",
    "- заполнены пропуски в столбцах `brand`, `model` и `registration_year`];\n",
    "- обработаны аномалии и выбросы в столбцах `registration_year`, `price`, `power`, `registration_month` и `date_created`;\n",
    "- объединены столбцы `registration_year` и `registration_month` в столбец `registration_date`;\n",
    "- данные были разбиты на обучающую и тестовую выборки в соотношениии 80:20;\n",
    "- закодированы категориальные признаки с применением бинарного и прямого кодирования;\n",
    "- отмасштабированы признаки с помощью `MinMaxScaler` и `StandardScaler`;\n",
    "- проведён подбор гиперпараметров и обучение моделей линейной регресии, дерева решений и градиентного спуска с помощью `RandomizedSearchCV`;\n",
    "- проведено тестирование и проверка на адекватность наилучшей модели."
   ]
  },
  {
   "cell_type": "markdown",
   "metadata": {},
   "source": [
    "В процессе моделирования были получены следующие результаты:\n",
    "- больше всего времени на обучение затрачивает модель `DecisionTreeRegressor`, чуть побыстрее модель `ElasticNet`, самая быстрая модель - `LightGBM`;\n",
    "- время предсказания модели линейной регрессии и дерева решений примерно одинаково, модель градиентного бустинга занимает гораздо больше времени на это;\n",
    "- обученная модель линейной регресии на кросс-валидации показала значение RMSE равное 2563, модель дерева решений - 2014, модель градиентного спуска - 1667;\n",
    "- модель дерева решений на тестовых данных показала значение RMSE=2003;\n",
    "- константная модель на тестовой выборке показала RMSE=4554."
   ]
  },
  {
   "cell_type": "markdown",
   "metadata": {},
   "source": [
    "В результате проделанной работы можно сформулировать следующие выводы:\n",
    "1. в столбцах `registration_year`, `price`, `power`, `registration_month` встречаются аномальные значения, необходимо выяснить причину их появления;\n",
    "1. учитывая, что кроме качества модели, важна и скорость работы, наилучшей моделью будет **дерево решений**;\n",
    "1. критерии отбора модели сформулированы нечётко, поэтому для подбора более идеальной модели необходимо их уточнить;\n",
    "1. обученная модель **дерева решений** показала значения метрики на тесте гораздо лучше, чем константная модель."
   ]
  }
 ],
 "metadata": {
  "ExecuteTimeLog": [
   {
    "duration": 3892,
    "start_time": "2023-08-05T11:19:17.485Z"
   },
   {
    "duration": 2049,
    "start_time": "2023-08-05T11:19:21.381Z"
   },
   {
    "duration": 82,
    "start_time": "2023-08-05T11:19:23.432Z"
   },
   {
    "duration": 2,
    "start_time": "2023-08-05T11:19:23.516Z"
   },
   {
    "duration": 4066,
    "start_time": "2023-08-05T11:19:23.521Z"
   },
   {
    "duration": 7,
    "start_time": "2023-08-05T11:19:27.589Z"
   },
   {
    "duration": 4777,
    "start_time": "2023-08-05T11:19:27.597Z"
   },
   {
    "duration": 372,
    "start_time": "2023-08-05T11:19:32.376Z"
   },
   {
    "duration": 18,
    "start_time": "2023-08-05T11:19:32.751Z"
   },
   {
    "duration": 58,
    "start_time": "2023-08-05T11:19:32.774Z"
   },
   {
    "duration": 10,
    "start_time": "2023-08-05T11:19:32.834Z"
   },
   {
    "duration": 159,
    "start_time": "2023-08-05T11:19:32.845Z"
   },
   {
    "duration": 284,
    "start_time": "2023-08-05T11:19:33.006Z"
   },
   {
    "duration": 293,
    "start_time": "2023-08-05T11:19:33.296Z"
   },
   {
    "duration": 56275,
    "start_time": "2023-08-05T11:19:33.594Z"
   },
   {
    "duration": 5245,
    "start_time": "2023-08-05T11:20:29.871Z"
   },
   {
    "duration": 231,
    "start_time": "2023-08-05T11:20:35.118Z"
   },
   {
    "duration": 36,
    "start_time": "2023-08-05T11:20:35.356Z"
   },
   {
    "duration": 93,
    "start_time": "2023-08-05T11:20:35.394Z"
   },
   {
    "duration": 221,
    "start_time": "2023-08-05T11:20:35.488Z"
   },
   {
    "duration": 13,
    "start_time": "2023-08-05T11:20:35.711Z"
   },
   {
    "duration": 60,
    "start_time": "2023-08-05T11:20:35.727Z"
   },
   {
    "duration": 227,
    "start_time": "2023-08-05T11:20:35.789Z"
   },
   {
    "duration": 266,
    "start_time": "2023-08-05T11:20:36.018Z"
   },
   {
    "duration": 16,
    "start_time": "2023-08-05T11:20:36.286Z"
   },
   {
    "duration": 12731,
    "start_time": "2023-08-05T11:20:36.303Z"
   },
   {
    "duration": 78,
    "start_time": "2023-08-05T11:20:49.038Z"
   },
   {
    "duration": 17,
    "start_time": "2023-08-05T11:20:49.119Z"
   },
   {
    "duration": 355,
    "start_time": "2023-08-05T11:20:49.139Z"
   },
   {
    "duration": 7,
    "start_time": "2023-08-05T11:20:49.498Z"
   },
   {
    "duration": 83,
    "start_time": "2023-08-05T11:20:49.508Z"
   },
   {
    "duration": 56,
    "start_time": "2023-08-05T11:20:49.594Z"
   },
   {
    "duration": 2348,
    "start_time": "2023-08-05T11:20:49.652Z"
   },
   {
    "duration": 118,
    "start_time": "2023-08-05T11:20:52.002Z"
   },
   {
    "duration": 126,
    "start_time": "2023-08-05T11:20:52.122Z"
   },
   {
    "duration": 2379,
    "start_time": "2023-08-05T11:20:52.250Z"
   },
   {
    "duration": 88,
    "start_time": "2023-08-05T11:20:54.631Z"
   },
   {
    "duration": 310,
    "start_time": "2023-08-05T11:20:54.720Z"
   },
   {
    "duration": 1136776,
    "start_time": "2023-08-05T11:20:55.032Z"
   },
   {
    "duration": 47585,
    "start_time": "2023-08-05T11:39:51.866Z"
   },
   {
    "duration": 8290738,
    "start_time": "2023-08-05T11:40:39.470Z"
   },
   {
    "duration": 353099,
    "start_time": "2023-08-05T13:58:50.264Z"
   },
   {
    "duration": 3197,
    "start_time": "2023-08-05T14:04:43.367Z"
   },
   {
    "duration": 13,
    "start_time": "2023-08-05T14:04:46.567Z"
   },
   {
    "duration": 26,
    "start_time": "2023-08-05T14:04:46.583Z"
   },
   {
    "duration": 8,
    "start_time": "2023-08-05T14:04:46.610Z"
   },
   {
    "duration": 2126,
    "start_time": "2023-08-05T15:55:01.676Z"
   },
   {
    "duration": 1749,
    "start_time": "2023-08-05T15:55:09.000Z"
   },
   {
    "duration": 2,
    "start_time": "2023-08-05T15:56:08.012Z"
   },
   {
    "duration": 3190,
    "start_time": "2023-08-05T15:56:39.517Z"
   },
   {
    "duration": 4,
    "start_time": "2023-08-05T15:56:43.175Z"
   },
   {
    "duration": 3023,
    "start_time": "2023-08-05T15:56:47.714Z"
   },
   {
    "duration": 320,
    "start_time": "2023-08-05T15:56:52.036Z"
   },
   {
    "duration": 3,
    "start_time": "2023-08-05T15:57:25.828Z"
   },
   {
    "duration": 46,
    "start_time": "2023-08-05T15:58:49.535Z"
   },
   {
    "duration": 12,
    "start_time": "2023-08-05T15:58:53.734Z"
   },
   {
    "duration": 115,
    "start_time": "2023-08-05T15:59:02.174Z"
   },
   {
    "duration": 211,
    "start_time": "2023-08-05T15:59:50.812Z"
   },
   {
    "duration": 276,
    "start_time": "2023-08-05T15:59:51.697Z"
   },
   {
    "duration": 42986,
    "start_time": "2023-08-05T16:00:54.962Z"
   },
   {
    "duration": 4178,
    "start_time": "2023-08-05T16:01:37.958Z"
   },
   {
    "duration": 2134,
    "start_time": "2023-08-05T16:02:42.870Z"
   },
   {
    "duration": 1706,
    "start_time": "2023-08-05T16:02:45.006Z"
   },
   {
    "duration": 74,
    "start_time": "2023-08-05T16:02:46.713Z"
   },
   {
    "duration": 3,
    "start_time": "2023-08-05T16:02:46.790Z"
   },
   {
    "duration": 982,
    "start_time": "2023-08-05T16:02:46.794Z"
   },
   {
    "duration": 4,
    "start_time": "2023-08-05T16:02:47.778Z"
   },
   {
    "duration": 2842,
    "start_time": "2023-08-05T16:02:47.784Z"
   },
   {
    "duration": 289,
    "start_time": "2023-08-05T16:02:50.627Z"
   },
   {
    "duration": 3,
    "start_time": "2023-08-05T16:02:50.918Z"
   },
   {
    "duration": 49,
    "start_time": "2023-08-05T16:02:50.924Z"
   },
   {
    "duration": 9,
    "start_time": "2023-08-05T16:02:50.976Z"
   },
   {
    "duration": 124,
    "start_time": "2023-08-05T16:02:50.987Z"
   },
   {
    "duration": 195,
    "start_time": "2023-08-05T16:02:51.113Z"
   },
   {
    "duration": 234,
    "start_time": "2023-08-05T16:02:51.310Z"
   },
   {
    "duration": 43207,
    "start_time": "2023-08-05T16:02:51.546Z"
   },
   {
    "duration": 4311,
    "start_time": "2023-08-05T16:03:34.761Z"
   },
   {
    "duration": 174,
    "start_time": "2023-08-05T16:10:23.176Z"
   },
   {
    "duration": 17,
    "start_time": "2023-08-05T16:10:23.503Z"
   },
   {
    "duration": 61,
    "start_time": "2023-08-05T16:10:23.834Z"
   },
   {
    "duration": 169,
    "start_time": "2023-08-05T16:10:24.411Z"
   },
   {
    "duration": 12,
    "start_time": "2023-08-05T16:10:24.772Z"
   },
   {
    "duration": 34,
    "start_time": "2023-08-05T16:10:25.135Z"
   },
   {
    "duration": 172,
    "start_time": "2023-08-05T16:10:25.531Z"
   },
   {
    "duration": 223,
    "start_time": "2023-08-05T16:10:25.916Z"
   },
   {
    "duration": 13,
    "start_time": "2023-08-05T16:10:26.331Z"
   },
   {
    "duration": 9409,
    "start_time": "2023-08-05T16:10:26.699Z"
   },
   {
    "duration": 55,
    "start_time": "2023-08-05T16:10:40.888Z"
   },
   {
    "duration": 17,
    "start_time": "2023-08-05T16:10:42.648Z"
   },
   {
    "duration": 234,
    "start_time": "2023-08-05T16:10:43.863Z"
   },
   {
    "duration": 6,
    "start_time": "2023-08-05T16:10:44.673Z"
   },
   {
    "duration": 41,
    "start_time": "2023-08-05T16:10:45.275Z"
   },
   {
    "duration": 41,
    "start_time": "2023-08-05T16:10:46.799Z"
   },
   {
    "duration": 1829,
    "start_time": "2023-08-05T16:10:48.017Z"
   },
   {
    "duration": 128,
    "start_time": "2023-08-05T16:10:52.788Z"
   },
   {
    "duration": 89,
    "start_time": "2023-08-05T16:10:59.287Z"
   },
   {
    "duration": 2099,
    "start_time": "2023-08-05T16:11:06.177Z"
   },
   {
    "duration": 93,
    "start_time": "2023-08-05T16:11:09.884Z"
   },
   {
    "duration": 290,
    "start_time": "2023-08-05T16:11:11.238Z"
   },
   {
    "duration": 95765,
    "start_time": "2023-08-05T16:11:12.699Z"
   },
   {
    "duration": 2158,
    "start_time": "2023-08-05T16:19:23.235Z"
   },
   {
    "duration": 1672,
    "start_time": "2023-08-05T16:19:25.395Z"
   },
   {
    "duration": 63,
    "start_time": "2023-08-05T16:19:27.069Z"
   },
   {
    "duration": 2,
    "start_time": "2023-08-05T16:19:27.134Z"
   },
   {
    "duration": 1082,
    "start_time": "2023-08-05T16:19:27.137Z"
   },
   {
    "duration": 5,
    "start_time": "2023-08-05T16:19:28.221Z"
   },
   {
    "duration": 2977,
    "start_time": "2023-08-05T16:19:28.227Z"
   },
   {
    "duration": 327,
    "start_time": "2023-08-05T16:19:31.206Z"
   },
   {
    "duration": 4,
    "start_time": "2023-08-05T16:19:31.535Z"
   },
   {
    "duration": 66,
    "start_time": "2023-08-05T16:19:31.541Z"
   },
   {
    "duration": 8,
    "start_time": "2023-08-05T16:19:31.609Z"
   },
   {
    "duration": 116,
    "start_time": "2023-08-05T16:19:31.619Z"
   },
   {
    "duration": 216,
    "start_time": "2023-08-05T16:19:31.737Z"
   },
   {
    "duration": 264,
    "start_time": "2023-08-05T16:19:31.954Z"
   },
   {
    "duration": 44558,
    "start_time": "2023-08-05T16:19:32.219Z"
   },
   {
    "duration": 4395,
    "start_time": "2023-08-05T16:20:16.778Z"
   },
   {
    "duration": 181,
    "start_time": "2023-08-05T16:20:21.176Z"
   },
   {
    "duration": 20,
    "start_time": "2023-08-05T16:20:21.360Z"
   },
   {
    "duration": 61,
    "start_time": "2023-08-05T16:20:21.381Z"
   },
   {
    "duration": 162,
    "start_time": "2023-08-05T16:20:21.462Z"
   },
   {
    "duration": 10,
    "start_time": "2023-08-05T16:20:21.626Z"
   },
   {
    "duration": 44,
    "start_time": "2023-08-05T16:20:21.638Z"
   },
   {
    "duration": 172,
    "start_time": "2023-08-05T16:20:21.685Z"
   },
   {
    "duration": 220,
    "start_time": "2023-08-05T16:20:21.858Z"
   },
   {
    "duration": 12,
    "start_time": "2023-08-05T16:20:22.080Z"
   },
   {
    "duration": 9135,
    "start_time": "2023-08-05T16:20:22.093Z"
   },
   {
    "duration": 83,
    "start_time": "2023-08-05T16:20:31.230Z"
   },
   {
    "duration": 13,
    "start_time": "2023-08-05T16:20:31.315Z"
   },
   {
    "duration": 266,
    "start_time": "2023-08-05T16:20:31.330Z"
   },
   {
    "duration": 8,
    "start_time": "2023-08-05T16:20:31.597Z"
   },
   {
    "duration": 68,
    "start_time": "2023-08-05T16:20:31.606Z"
   },
   {
    "duration": 38,
    "start_time": "2023-08-05T16:20:31.677Z"
   },
   {
    "duration": 1763,
    "start_time": "2023-08-05T16:20:31.716Z"
   },
   {
    "duration": 131,
    "start_time": "2023-08-05T16:20:33.480Z"
   },
   {
    "duration": 16,
    "start_time": "2023-08-05T16:20:52.728Z"
   },
   {
    "duration": 2178,
    "start_time": "2023-08-05T16:21:01.527Z"
   },
   {
    "duration": 88,
    "start_time": "2023-08-05T16:21:16.086Z"
   },
   {
    "duration": 1949,
    "start_time": "2023-08-05T16:21:18.115Z"
   },
   {
    "duration": 23,
    "start_time": "2023-08-05T16:21:33.815Z"
   },
   {
    "duration": 2016,
    "start_time": "2023-08-05T16:26:10.205Z"
   },
   {
    "duration": 1654,
    "start_time": "2023-08-05T16:26:12.224Z"
   },
   {
    "duration": 71,
    "start_time": "2023-08-05T16:26:13.880Z"
   },
   {
    "duration": 2,
    "start_time": "2023-08-05T16:26:13.953Z"
   },
   {
    "duration": 1055,
    "start_time": "2023-08-05T16:26:13.957Z"
   },
   {
    "duration": 6,
    "start_time": "2023-08-05T16:26:15.014Z"
   },
   {
    "duration": 2902,
    "start_time": "2023-08-05T16:26:15.022Z"
   },
   {
    "duration": 283,
    "start_time": "2023-08-05T16:26:17.926Z"
   },
   {
    "duration": 3,
    "start_time": "2023-08-05T16:26:18.211Z"
   },
   {
    "duration": 59,
    "start_time": "2023-08-05T16:26:18.217Z"
   },
   {
    "duration": 8,
    "start_time": "2023-08-05T16:26:18.278Z"
   },
   {
    "duration": 120,
    "start_time": "2023-08-05T16:26:18.288Z"
   },
   {
    "duration": 210,
    "start_time": "2023-08-05T16:26:18.410Z"
   },
   {
    "duration": 277,
    "start_time": "2023-08-05T16:26:18.622Z"
   },
   {
    "duration": 42376,
    "start_time": "2023-08-05T16:26:18.901Z"
   },
   {
    "duration": 4236,
    "start_time": "2023-08-05T16:27:01.279Z"
   },
   {
    "duration": 176,
    "start_time": "2023-08-05T16:27:05.517Z"
   },
   {
    "duration": 17,
    "start_time": "2023-08-05T16:27:05.695Z"
   },
   {
    "duration": 74,
    "start_time": "2023-08-05T16:27:05.715Z"
   },
   {
    "duration": 164,
    "start_time": "2023-08-05T16:27:05.791Z"
   },
   {
    "duration": 11,
    "start_time": "2023-08-05T16:27:05.956Z"
   },
   {
    "duration": 26,
    "start_time": "2023-08-05T16:27:05.969Z"
   },
   {
    "duration": 209,
    "start_time": "2023-08-05T16:27:05.996Z"
   },
   {
    "duration": 223,
    "start_time": "2023-08-05T16:27:06.207Z"
   },
   {
    "duration": 13,
    "start_time": "2023-08-05T16:27:06.432Z"
   },
   {
    "duration": 9304,
    "start_time": "2023-08-05T16:27:06.458Z"
   },
   {
    "duration": 59,
    "start_time": "2023-08-05T16:27:15.764Z"
   },
   {
    "duration": 12,
    "start_time": "2023-08-05T16:27:15.824Z"
   },
   {
    "duration": 215,
    "start_time": "2023-08-05T16:27:15.859Z"
   },
   {
    "duration": 7,
    "start_time": "2023-08-05T16:27:16.076Z"
   },
   {
    "duration": 40,
    "start_time": "2023-08-05T16:27:16.084Z"
   },
   {
    "duration": 38,
    "start_time": "2023-08-05T16:28:19.260Z"
   },
   {
    "duration": 1670,
    "start_time": "2023-08-05T16:28:20.363Z"
   },
   {
    "duration": 152,
    "start_time": "2023-08-05T16:28:44.963Z"
   },
   {
    "duration": 102,
    "start_time": "2023-08-05T16:32:46.761Z"
   },
   {
    "duration": 83,
    "start_time": "2023-08-05T16:32:47.265Z"
   },
   {
    "duration": 1985,
    "start_time": "2023-08-05T16:32:51.416Z"
   },
   {
    "duration": 71,
    "start_time": "2023-08-05T16:32:53.403Z"
   },
   {
    "duration": 276,
    "start_time": "2023-08-05T16:32:53.476Z"
   },
   {
    "duration": 196920,
    "start_time": "2023-08-05T16:32:53.758Z"
   },
   {
    "duration": 41139,
    "start_time": "2023-08-05T16:36:10.682Z"
   },
   {
    "duration": 611253,
    "start_time": "2023-08-05T16:36:51.822Z"
   },
   {
    "duration": 12508,
    "start_time": "2023-08-05T16:47:03.160Z"
   },
   {
    "duration": 2909,
    "start_time": "2023-08-05T16:47:15.670Z"
   },
   {
    "duration": 5,
    "start_time": "2023-08-05T16:47:18.580Z"
   },
   {
    "duration": 84,
    "start_time": "2023-08-05T16:47:18.586Z"
   },
   {
    "duration": 5,
    "start_time": "2023-08-05T16:47:18.672Z"
   }
  ],
  "kernelspec": {
   "display_name": "Python 3 (ipykernel)",
   "language": "python",
   "name": "python3"
  },
  "language_info": {
   "codemirror_mode": {
    "name": "ipython",
    "version": 3
   },
   "file_extension": ".py",
   "mimetype": "text/x-python",
   "name": "python",
   "nbconvert_exporter": "python",
   "pygments_lexer": "ipython3",
   "version": "3.9.13"
  },
  "toc": {
   "base_numbering": 1,
   "nav_menu": {},
   "number_sections": true,
   "sideBar": true,
   "skip_h1_title": true,
   "title_cell": "Table of Contents",
   "title_sidebar": "Contents",
   "toc_cell": false,
   "toc_position": {
    "height": "calc(100% - 180px)",
    "left": "10px",
    "top": "150px",
    "width": "239.4px"
   },
   "toc_section_display": true,
   "toc_window_display": true
  },
  "varInspector": {
   "cols": {
    "lenName": 16,
    "lenType": 16,
    "lenVar": 40
   },
   "kernels_config": {
    "python": {
     "delete_cmd_postfix": "",
     "delete_cmd_prefix": "del ",
     "library": "var_list.py",
     "varRefreshCmd": "print(var_dic_list())"
    },
    "r": {
     "delete_cmd_postfix": ") ",
     "delete_cmd_prefix": "rm(",
     "library": "var_list.r",
     "varRefreshCmd": "cat(var_dic_list()) "
    }
   },
   "types_to_exclude": [
    "module",
    "function",
    "builtin_function_or_method",
    "instance",
    "_Feature"
   ],
   "window_display": false
  }
 },
 "nbformat": 4,
 "nbformat_minor": 2
}
